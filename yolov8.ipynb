{
 "cells": [
  {
   "cell_type": "code",
   "execution_count": 180,
   "metadata": {},
   "outputs": [
    {
     "name": "stdout",
     "output_type": "stream",
     "text": [
      "['arr_0', 'arr_1']\n"
     ]
    }
   ],
   "source": [
    "import numpy as np\n",
    "\n",
    "data = np.load('wafer_dataset/Wafer_Map_Datasets.npz')\n",
    "print(data.files)"
   ]
  },
  {
   "cell_type": "code",
   "execution_count": 181,
   "metadata": {},
   "outputs": [
    {
     "data": {
      "text/plain": [
       "((38015, 52, 52), (38015, 8))"
      ]
     },
     "execution_count": 181,
     "metadata": {},
     "output_type": "execute_result"
    }
   ],
   "source": [
    "data['arr_0'].shape, data['arr_1'].shape"
   ]
  },
  {
   "cell_type": "code",
   "execution_count": 182,
   "metadata": {},
   "outputs": [
    {
     "data": {
      "image/png": "[encoded data removed]",
      "text/plain": [
       "<Figure size 1500x300 with 5 Axes>"
      ]
     },
     "metadata": {},
     "output_type": "display_data"
    }
   ],
   "source": [
    "import matplotlib.pyplot as plt\n",
    "\n",
    "# 取前五張圖片與對應的 label\n",
    "images = data['arr_0'][:5]\n",
    "labels = data['arr_1'][:5]\n",
    "\n",
    "# 畫圖\n",
    "plt.figure(figsize=(15, 3))\n",
    "for i in range(5):\n",
    "    plt.subplot(1, 5, i + 1)\n",
    "    plt.imshow(images[i], cmap='gray')\n",
    "    plt.title(f'Label: {labels[i]}')\n",
    "    plt.axis('off')\n",
    "plt.tight_layout()\n",
    "plt.show()"
   ]
  },
  {
   "cell_type": "code",
   "execution_count": 183,
   "metadata": {},
   "outputs": [],
   "source": [
    "from sklearn.model_selection import train_test_split\n",
    "\n",
    "wafer = data['arr_0']\n",
    "label = data['arr_1']\n",
    "X_train, X_test, y_train, y_test = train_test_split(wafer, label, test_size = 0.2)"
   ]
  },
  {
   "cell_type": "code",
   "execution_count": 185,
   "metadata": {},
   "outputs": [],
   "source": [
    "# from torch.utils.data import Dataset\n",
    "# import json\n",
    "\n",
    "# class My_Dataset(Dataset):\n",
    "    \n",
    "#     def __init__(self, X, y, transform = None):\n",
    "# #         self.data_path = data_path\n",
    "# #         self.data = np.load(data_path)\n",
    "#         self.images = X.reshape(-1,1, 52, 52)\n",
    "#         self.one_hot_labels = y\n",
    "#         self.transform = transform\n",
    "        \n",
    "#         self.classes_dict = {\n",
    "#             \"00000000\":0,\n",
    "#             \"10000000\":1,\n",
    "#             \"01000000\":2,\n",
    "#             \"00100000\":3,\n",
    "#             \"00010000\":4,\n",
    "#             \"00001000\":5,\n",
    "#             \"00000100\":6,\n",
    "#             \"00000010\":7,\n",
    "#             \"00000001\":8,\n",
    "#             \"10100000\":9,\n",
    "#             \"10010000\":10,\n",
    "#             \"10001000\":11,\n",
    "#             \"10000010\":12,\n",
    "#             \"01100000\":13,\n",
    "#             \"01010000\":14,\n",
    "#             \"01001000\":15,\n",
    "#             \"01000010\":16,\n",
    "#             \"00101000\":17,\n",
    "#             \"00100010\":18,\n",
    "#             \"00011000\":19,\n",
    "#             \"00010010\":20,\n",
    "#             \"00001010\":21,\n",
    "#             \"10101000\":22,\n",
    "#             \"10100010\":23,\n",
    "#             \"10011000\":24,\n",
    "#             \"10010010\":25,\n",
    "#             \"10001010\":26,\n",
    "#             \"01101000\":27,\n",
    "#             \"01100010\":28,\n",
    "#             \"01011000\":29,\n",
    "#             \"01010010\":30,\n",
    "#             \"01001010\":31,\n",
    "#             \"00101010\":32,\n",
    "#             \"00011010\":33,\n",
    "#             \"10101010\":34,\n",
    "#             \"10011010\":35,\n",
    "#             \"01101010\":36,\n",
    "#             \"01011010\":37,\n",
    "#         }\n",
    "        \n",
    "        \n",
    "#         self.classes_num_dict = {}\n",
    "        \n",
    "#         json_str = json.dumps(self.classes_dict, indent = 4)\n",
    "#         with open( \"classes_dict.json\" , 'w') as json_file:\n",
    "#             json_file.write(json_str)\n",
    "        \n",
    "        \n",
    "#         self.image_labels = []\n",
    "#         self.images_num = []\n",
    "        \n",
    "#         cnt = 0\n",
    "#         for one_hot_label in self.one_hot_labels:\n",
    "#             cnt += 1\n",
    "#             t = \"\"\n",
    "#             for ch in one_hot_label:\n",
    "#                 if ch == None:\n",
    "#                     t += str(0)\n",
    "#                 else:\n",
    "#                     t += str(ch)\n",
    "#             label = self.classes_dict[t]\n",
    "#             if label  not in self.classes_num_dict:\n",
    "#                 self.classes_num_dict[label] = 1\n",
    "#             else:\n",
    "#                 self.classes_num_dict[label] += 1\n",
    "#             self.image_labels.append(label)\n",
    "            \n",
    "#         for i in sorted(list(self.classes_num_dict.keys())):\n",
    "#             self.images_num.append(self.classes_num_dict[i])\n",
    "        \n",
    "#         self.num_classes = len(self.classes_num_dict)\n",
    "        \n",
    "#         print(\"num_class：\", self.num_classes)\n",
    "#         print(\"{}/{} images were  found in the dataset.\".format(cnt, sum(self.images_num)))\n",
    "            \n",
    "        \n",
    "#     def __len__(self):\n",
    "#         return sum(self.images_num)\n",
    "    \n",
    "#     def __getitem__(self, idx):\n",
    "#         image = self.images[idx]\n",
    "#         label = self.image_labels[idx]\n",
    "#         if self.transform is not None:\n",
    "#             image = self.transform(image)\n",
    "#         return image, label"
   ]
  },
  {
   "cell_type": "code",
   "execution_count": 186,
   "metadata": {},
   "outputs": [],
   "source": [
    "from torch.utils.data import Dataset\n",
    "import json\n",
    "import numpy as np\n",
    "\n",
    "class My_Dataset(Dataset):\n",
    "    def __init__(self, X, y, transform=None):\n",
    "        self.images = X.reshape(-1, 1, 52, 52)\n",
    "        self.one_hot_labels = y\n",
    "        self.transform = transform\n",
    "\n",
    "        # 只保留 0~8 類別\n",
    "        self.classes_dict = {\n",
    "            \"00000000\": 0,\n",
    "            \"10000000\": 1,\n",
    "            \"01000000\": 2,\n",
    "            \"00100000\": 3,\n",
    "            \"00010000\": 4,\n",
    "            \"00001000\": 5,\n",
    "            \"00000100\": 6,\n",
    "            \"00000010\": 7,\n",
    "            \"00000001\": 8\n",
    "        }\n",
    "\n",
    "        # 反向查找表（可選）\n",
    "        json_str = json.dumps(self.classes_dict, indent=4)\n",
    "        with open(\"classes_dict.json\", 'w') as json_file:\n",
    "            json_file.write(json_str)\n",
    "\n",
    "        self.image_labels = []\n",
    "        self.filtered_images = []\n",
    "\n",
    "        self.classes_num_dict = {}\n",
    "\n",
    "        for i, one_hot_label in enumerate(self.one_hot_labels):\n",
    "            t = ''.join(str(int(ch)) if ch is not None else '0' for ch in one_hot_label)\n",
    "            if t in self.classes_dict:\n",
    "                label = self.classes_dict[t]\n",
    "                self.filtered_images.append(self.images[i])\n",
    "                self.image_labels.append(label)\n",
    "                if label not in self.classes_num_dict:\n",
    "                    self.classes_num_dict[label] = 1\n",
    "                else:\n",
    "                    self.classes_num_dict[label] += 1\n",
    "\n",
    "        self.images = np.array(self.filtered_images)\n",
    "        self.num_classes = len(self.classes_num_dict)\n",
    "        self.images_num = [self.classes_num_dict[i] for i in sorted(self.classes_num_dict.keys())]\n",
    "\n",
    "        print(\"num_class:\", self.num_classes)\n",
    "        print(\"{}/{} images retained in 0–8 classes.\".format(len(self.images), len(X)))\n",
    "\n",
    "    def __len__(self):\n",
    "        return len(self.images)\n",
    "\n",
    "    def __getitem__(self, idx):\n",
    "        image = self.images[idx]\n",
    "        label = self.image_labels[idx]\n",
    "        if self.transform is not None:\n",
    "            image = self.transform(image)\n",
    "        return image, label\n"
   ]
  },
  {
   "cell_type": "code",
   "execution_count": 187,
   "metadata": {},
   "outputs": [
    {
     "name": "stdout",
     "output_type": "stream",
     "text": [
      "num_class: 9\n",
      "6420/30412 images retained in 0–8 classes.\n",
      "num_class: 9\n",
      "1595/7603 images retained in 0–8 classes.\n"
     ]
    }
   ],
   "source": [
    "train_dataset = My_Dataset(X_train, y_train)\n",
    "test_dataset = My_Dataset(X_test, y_test)"
   ]
  },
  {
   "cell_type": "code",
   "execution_count": 188,
   "metadata": {},
   "outputs": [
    {
     "name": "stderr",
     "output_type": "stream",
     "text": [
      "Saving train set: 100%|██████████| 6420/6420 [00:00<00:00, 24056.33it/s]\n",
      "Saving val set: 100%|██████████| 1595/1595 [00:00<00:00, 25813.84it/s]\n"
     ]
    }
   ],
   "source": [
    "import os\n",
    "import cv2\n",
    "import numpy as np\n",
    "from tqdm import tqdm\n",
    "from pathlib import Path\n",
    "import torch\n",
    "\n",
    "def save_dataset_to_folder(dataset, split_name=\"train\", root_dir=\"wafer_dataset\"):\n",
    "    output_dir = Path(root_dir) / split_name\n",
    "    os.makedirs(output_dir, exist_ok=True)\n",
    "\n",
    "    for idx in tqdm(range(len(dataset)), desc=f\"Saving {split_name} set\"):\n",
    "        img, label = dataset[idx]\n",
    "        label_dir = output_dir / str(label)\n",
    "        label_dir.mkdir(parents=True, exist_ok=True)\n",
    "\n",
    "        # 處理 Tensor -> numpy 並壓縮維度\n",
    "        img_np = img.squeeze()\n",
    "        if isinstance(img_np, torch.Tensor):\n",
    "            img_np = img_np.numpy()\n",
    "\n",
    "        # ⭐ 將圖像值從 0,1,2 轉換為對應灰階強度，增加可視化效果：\n",
    "        #   0 → 0 (黑), 1 → 127 (灰), 2 → 255 (白)\n",
    "        img_gray = (img_np * 127).astype(np.uint8)\n",
    "\n",
    "        img_path = label_dir / f\"img_{idx}.png\"\n",
    "        cv2.imwrite(str(img_path), img_gray)\n",
    "\n",
    "\n",
    "# 匯出 train 與 test 資料集\n",
    "save_dataset_to_folder(train_dataset, split_name=\"train\", root_dir=\"wafer_dataset\")\n",
    "save_dataset_to_folder(test_dataset, split_name=\"val\", root_dir=\"wafer_dataset\")"
   ]
  },
  {
   "cell_type": "code",
   "execution_count": null,
   "metadata": {},
   "outputs": [],
   "source": [
    "# import matplotlib.pyplot as plt\n",
    "\n",
    "# img, label = train_dataset[0]\n",
    "# img_np = img.squeeze()\n",
    "\n",
    "# plt.imshow(img_np, cmap='gray')\n",
    "# plt.title(f\"Label: {label}\")\n",
    "# plt.colorbar()\n",
    "# plt.show()\n",
    "\n",
    "# print(\"像素值統計：\", np.unique(img_np, return_counts=True))\n"
   ]
  },
  {
   "cell_type": "code",
   "execution_count": 190,
   "metadata": {},
   "outputs": [
    {
     "data": {
      "text/plain": [
       "YOLO(\n",
       "  (model): ClassificationModel(\n",
       "    (model): Sequential(\n",
       "      (0): Conv(\n",
       "        (conv): Conv2d(3, 32, kernel_size=(3, 3), stride=(2, 2), padding=(1, 1), bias=False)\n",
       "        (bn): BatchNorm2d(32, eps=1e-05, momentum=0.1, affine=True, track_running_stats=True)\n",
       "        (act): SiLU(inplace=True)\n",
       "      )\n",
       "      (1): Conv(\n",
       "        (conv): Conv2d(32, 64, kernel_size=(3, 3), stride=(2, 2), padding=(1, 1), bias=False)\n",
       "        (bn): BatchNorm2d(64, eps=1e-05, momentum=0.1, affine=True, track_running_stats=True)\n",
       "        (act): SiLU(inplace=True)\n",
       "      )\n",
       "      (2): C2f(\n",
       "        (cv1): Conv(\n",
       "          (conv): Conv2d(64, 64, kernel_size=(1, 1), stride=(1, 1), bias=False)\n",
       "          (bn): BatchNorm2d(64, eps=1e-05, momentum=0.1, affine=True, track_running_stats=True)\n",
       "          (act): SiLU(inplace=True)\n",
       "        )\n",
       "        (cv2): Conv(\n",
       "          (conv): Conv2d(96, 64, kernel_size=(1, 1), stride=(1, 1), bias=False)\n",
       "          (bn): BatchNorm2d(64, eps=1e-05, momentum=0.1, affine=True, track_running_stats=True)\n",
       "          (act): SiLU(inplace=True)\n",
       "        )\n",
       "        (m): ModuleList(\n",
       "          (0): Bottleneck(\n",
       "            (cv1): Conv(\n",
       "              (conv): Conv2d(32, 32, kernel_size=(3, 3), stride=(1, 1), padding=(1, 1), bias=False)\n",
       "              (bn): BatchNorm2d(32, eps=1e-05, momentum=0.1, affine=True, track_running_stats=True)\n",
       "              (act): SiLU(inplace=True)\n",
       "            )\n",
       "            (cv2): Conv(\n",
       "              (conv): Conv2d(32, 32, kernel_size=(3, 3), stride=(1, 1), padding=(1, 1), bias=False)\n",
       "              (bn): BatchNorm2d(32, eps=1e-05, momentum=0.1, affine=True, track_running_stats=True)\n",
       "              (act): SiLU(inplace=True)\n",
       "            )\n",
       "          )\n",
       "        )\n",
       "      )\n",
       "      (3): Conv(\n",
       "        (conv): Conv2d(64, 128, kernel_size=(3, 3), stride=(2, 2), padding=(1, 1), bias=False)\n",
       "        (bn): BatchNorm2d(128, eps=1e-05, momentum=0.1, affine=True, track_running_stats=True)\n",
       "        (act): SiLU(inplace=True)\n",
       "      )\n",
       "      (4): C2f(\n",
       "        (cv1): Conv(\n",
       "          (conv): Conv2d(128, 128, kernel_size=(1, 1), stride=(1, 1), bias=False)\n",
       "          (bn): BatchNorm2d(128, eps=1e-05, momentum=0.1, affine=True, track_running_stats=True)\n",
       "          (act): SiLU(inplace=True)\n",
       "        )\n",
       "        (cv2): Conv(\n",
       "          (conv): Conv2d(256, 128, kernel_size=(1, 1), stride=(1, 1), bias=False)\n",
       "          (bn): BatchNorm2d(128, eps=1e-05, momentum=0.1, affine=True, track_running_stats=True)\n",
       "          (act): SiLU(inplace=True)\n",
       "        )\n",
       "        (m): ModuleList(\n",
       "          (0-1): 2 x Bottleneck(\n",
       "            (cv1): Conv(\n",
       "              (conv): Conv2d(64, 64, kernel_size=(3, 3), stride=(1, 1), padding=(1, 1), bias=False)\n",
       "              (bn): BatchNorm2d(64, eps=1e-05, momentum=0.1, affine=True, track_running_stats=True)\n",
       "              (act): SiLU(inplace=True)\n",
       "            )\n",
       "            (cv2): Conv(\n",
       "              (conv): Conv2d(64, 64, kernel_size=(3, 3), stride=(1, 1), padding=(1, 1), bias=False)\n",
       "              (bn): BatchNorm2d(64, eps=1e-05, momentum=0.1, affine=True, track_running_stats=True)\n",
       "              (act): SiLU(inplace=True)\n",
       "            )\n",
       "          )\n",
       "        )\n",
       "      )\n",
       "      (5): Conv(\n",
       "        (conv): Conv2d(128, 256, kernel_size=(3, 3), stride=(2, 2), padding=(1, 1), bias=False)\n",
       "        (bn): BatchNorm2d(256, eps=1e-05, momentum=0.1, affine=True, track_running_stats=True)\n",
       "        (act): SiLU(inplace=True)\n",
       "      )\n",
       "      (6): C2f(\n",
       "        (cv1): Conv(\n",
       "          (conv): Conv2d(256, 256, kernel_size=(1, 1), stride=(1, 1), bias=False)\n",
       "          (bn): BatchNorm2d(256, eps=1e-05, momentum=0.1, affine=True, track_running_stats=True)\n",
       "          (act): SiLU(inplace=True)\n",
       "        )\n",
       "        (cv2): Conv(\n",
       "          (conv): Conv2d(512, 256, kernel_size=(1, 1), stride=(1, 1), bias=False)\n",
       "          (bn): BatchNorm2d(256, eps=1e-05, momentum=0.1, affine=True, track_running_stats=True)\n",
       "          (act): SiLU(inplace=True)\n",
       "        )\n",
       "        (m): ModuleList(\n",
       "          (0-1): 2 x Bottleneck(\n",
       "            (cv1): Conv(\n",
       "              (conv): Conv2d(128, 128, kernel_size=(3, 3), stride=(1, 1), padding=(1, 1), bias=False)\n",
       "              (bn): BatchNorm2d(128, eps=1e-05, momentum=0.1, affine=True, track_running_stats=True)\n",
       "              (act): SiLU(inplace=True)\n",
       "            )\n",
       "            (cv2): Conv(\n",
       "              (conv): Conv2d(128, 128, kernel_size=(3, 3), stride=(1, 1), padding=(1, 1), bias=False)\n",
       "              (bn): BatchNorm2d(128, eps=1e-05, momentum=0.1, affine=True, track_running_stats=True)\n",
       "              (act): SiLU(inplace=True)\n",
       "            )\n",
       "          )\n",
       "        )\n",
       "      )\n",
       "      (7): Conv(\n",
       "        (conv): Conv2d(256, 512, kernel_size=(3, 3), stride=(2, 2), padding=(1, 1), bias=False)\n",
       "        (bn): BatchNorm2d(512, eps=1e-05, momentum=0.1, affine=True, track_running_stats=True)\n",
       "        (act): SiLU(inplace=True)\n",
       "      )\n",
       "      (8): C2f(\n",
       "        (cv1): Conv(\n",
       "          (conv): Conv2d(512, 512, kernel_size=(1, 1), stride=(1, 1), bias=False)\n",
       "          (bn): BatchNorm2d(512, eps=1e-05, momentum=0.1, affine=True, track_running_stats=True)\n",
       "          (act): SiLU(inplace=True)\n",
       "        )\n",
       "        (cv2): Conv(\n",
       "          (conv): Conv2d(768, 512, kernel_size=(1, 1), stride=(1, 1), bias=False)\n",
       "          (bn): BatchNorm2d(512, eps=1e-05, momentum=0.1, affine=True, track_running_stats=True)\n",
       "          (act): SiLU(inplace=True)\n",
       "        )\n",
       "        (m): ModuleList(\n",
       "          (0): Bottleneck(\n",
       "            (cv1): Conv(\n",
       "              (conv): Conv2d(256, 256, kernel_size=(3, 3), stride=(1, 1), padding=(1, 1), bias=False)\n",
       "              (bn): BatchNorm2d(256, eps=1e-05, momentum=0.1, affine=True, track_running_stats=True)\n",
       "              (act): SiLU(inplace=True)\n",
       "            )\n",
       "            (cv2): Conv(\n",
       "              (conv): Conv2d(256, 256, kernel_size=(3, 3), stride=(1, 1), padding=(1, 1), bias=False)\n",
       "              (bn): BatchNorm2d(256, eps=1e-05, momentum=0.1, affine=True, track_running_stats=True)\n",
       "              (act): SiLU(inplace=True)\n",
       "            )\n",
       "          )\n",
       "        )\n",
       "      )\n",
       "      (9): Classify(\n",
       "        (conv): Conv(\n",
       "          (conv): Conv2d(512, 1280, kernel_size=(1, 1), stride=(1, 1), bias=False)\n",
       "          (bn): BatchNorm2d(1280, eps=1e-05, momentum=0.1, affine=True, track_running_stats=True)\n",
       "          (act): SiLU(inplace=True)\n",
       "        )\n",
       "        (pool): AdaptiveAvgPool2d(output_size=1)\n",
       "        (drop): Dropout(p=0.0, inplace=True)\n",
       "        (linear): Linear(in_features=1280, out_features=9, bias=True)\n",
       "      )\n",
       "    )\n",
       "  )\n",
       ")"
      ]
     },
     "execution_count": 190,
     "metadata": {},
     "output_type": "execute_result"
    }
   ],
   "source": [
    "from ultralytics import YOLO\n",
    "model = YOLO('yolov8s-cls.pt')\n",
    "model.model.model[-1].linear.out_features = 9\n",
    "model"
   ]
  },
  {
   "cell_type": "code",
   "execution_count": 191,
   "metadata": {},
   "outputs": [
    {
     "name": "stdout",
     "output_type": "stream",
     "text": [
      "Ultralytics 8.3.99 🚀 Python-3.12.0 torch-2.5.1 CUDA:0 (NVIDIA GeForce RTX 4090, 24118MiB)\n",
      "\u001b[34m\u001b[1mengine/trainer: \u001b[0mtask=classify, mode=train, model=yolov8s-cls.pt, data=wafer_dataset, epochs=100, time=None, patience=100, batch=256, imgsz=52, save=True, save_period=-1, cache=False, device=cuda, workers=8, project=None, name=yolov8-wafer-cls5, exist_ok=False, pretrained=True, optimizer=auto, verbose=True, seed=0, deterministic=True, single_cls=False, rect=False, cos_lr=False, close_mosaic=10, resume=False, amp=True, fraction=1.0, profile=False, freeze=None, multi_scale=False, overlap_mask=True, mask_ratio=4, dropout=0.0, val=True, split=val, save_json=False, save_hybrid=False, conf=None, iou=0.7, max_det=300, half=False, dnn=False, plots=True, source=None, vid_stride=1, stream_buffer=False, visualize=False, augment=False, agnostic_nms=False, classes=None, retina_masks=False, embed=None, show=False, save_frames=False, save_txt=False, save_conf=False, save_crop=False, show_labels=True, show_conf=True, show_boxes=True, line_width=None, format=torchscript, keras=False, optimize=False, int8=False, dynamic=False, simplify=True, opset=None, workspace=None, nms=False, lr0=0.01, lrf=0.01, momentum=0.937, weight_decay=0.0005, warmup_epochs=3.0, warmup_momentum=0.8, warmup_bias_lr=0.1, box=7.5, cls=0.5, dfl=1.5, pose=12.0, kobj=1.0, nbs=64, hsv_h=0.015, hsv_s=0.7, hsv_v=0.4, degrees=0.0, translate=0.1, scale=0.5, shear=0.0, perspective=0.0, flipud=0.0, fliplr=0.5, bgr=0.0, mosaic=1.0, mixup=0.0, copy_paste=0.0, copy_paste_mode=flip, auto_augment=randaugment, erasing=0.4, crop_fraction=1.0, cfg=None, tracker=botsort.yaml, save_dir=runs/classify/yolov8-wafer-cls5\n",
      "\u001b[34m\u001b[1mtrain:\u001b[0m /home/ntu-weal222c/ianpeng/pmba_yolo/wafer_dataset/train... found 6420 images in 9 classes ✅ \n",
      "\u001b[34m\u001b[1mval:\u001b[0m /home/ntu-weal222c/ianpeng/pmba_yolo/wafer_dataset/val... found 1595 images in 9 classes ✅ \n",
      "\u001b[34m\u001b[1mtest:\u001b[0m None...\n",
      "Overriding model.yaml nc=1000 with nc=9\n",
      "\n",
      "                   from  n    params  module                                       arguments                     \n",
      "  0                  -1  1       928  ultralytics.nn.modules.conv.Conv             [3, 32, 3, 2]                 \n",
      "  1                  -1  1     18560  ultralytics.nn.modules.conv.Conv             [32, 64, 3, 2]                \n",
      "  2                  -1  1     29056  ultralytics.nn.modules.block.C2f             [64, 64, 1, True]             \n",
      "  3                  -1  1     73984  ultralytics.nn.modules.conv.Conv             [64, 128, 3, 2]               \n",
      "  4                  -1  2    197632  ultralytics.nn.modules.block.C2f             [128, 128, 2, True]           \n",
      "  5                  -1  1    295424  ultralytics.nn.modules.conv.Conv             [128, 256, 3, 2]              \n",
      "  6                  -1  2    788480  ultralytics.nn.modules.block.C2f             [256, 256, 2, True]           \n",
      "  7                  -1  1   1180672  ultralytics.nn.modules.conv.Conv             [256, 512, 3, 2]              \n",
      "  8                  -1  1   1838080  ultralytics.nn.modules.block.C2f             [512, 512, 1, True]           \n",
      "  9                  -1  1    669449  ultralytics.nn.modules.head.Classify         [512, 9]                      \n",
      "YOLOv8s-cls summary: 56 layers, 5,092,265 parameters, 5,092,265 gradients, 12.6 GFLOPs\n",
      "Transferred 156/158 items from pretrained weights\n",
      "\u001b[34m\u001b[1mAMP: \u001b[0mrunning Automatic Mixed Precision (AMP) checks...\n",
      "\u001b[34m\u001b[1mAMP: \u001b[0mchecks passed ✅\n",
      "WARNING ⚠️ imgsz=[52] must be multiple of max stride 32, updating to [64]\n"
     ]
    },
    {
     "name": "stderr",
     "output_type": "stream",
     "text": [
      "\u001b[34m\u001b[1mtrain: \u001b[0mScanning /home/ntu-weal222c/ianpeng/pmba_yolo/wafer_dataset/train... 6420 images, 0 corrupt: 100%|██████████| 6420/6420 [00:00<00:00, 27450.81it/s]"
     ]
    },
    {
     "name": "stdout",
     "output_type": "stream",
     "text": [
      "\u001b[34m\u001b[1mtrain: \u001b[0mNew cache created: /home/ntu-weal222c/ianpeng/pmba_yolo/wafer_dataset/train.cache\n"
     ]
    },
    {
     "name": "stderr",
     "output_type": "stream",
     "text": [
      "\n",
      "\u001b[34m\u001b[1mval: \u001b[0mScanning /home/ntu-weal222c/ianpeng/pmba_yolo/wafer_dataset/val... 1595 images, 0 corrupt: 100%|██████████| 1595/1595 [00:00<00:00, 20544.84it/s]"
     ]
    },
    {
     "name": "stdout",
     "output_type": "stream",
     "text": [
      "\u001b[34m\u001b[1mval: \u001b[0mNew cache created: /home/ntu-weal222c/ianpeng/pmba_yolo/wafer_dataset/val.cache\n"
     ]
    },
    {
     "name": "stderr",
     "output_type": "stream",
     "text": [
      "\n"
     ]
    },
    {
     "name": "stdout",
     "output_type": "stream",
     "text": [
      "\u001b[34m\u001b[1moptimizer:\u001b[0m 'optimizer=auto' found, ignoring 'lr0=0.01' and 'momentum=0.937' and determining best 'optimizer', 'lr0' and 'momentum' automatically... \n",
      "\u001b[34m\u001b[1moptimizer:\u001b[0m AdamW(lr=0.000769, momentum=0.9) with parameter groups 26 weight(decay=0.0), 27 weight(decay=0.002), 27 bias(decay=0.0)\n",
      "Image sizes 64 train, 64 val\n",
      "Using 8 dataloader workers\n",
      "Logging results to \u001b[1mruns/classify/yolov8-wafer-cls5\u001b[0m\n",
      "Starting training for 100 epochs...\n",
      "\n",
      "      Epoch    GPU_mem       loss  Instances       Size\n"
     ]
    },
    {
     "name": "stderr",
     "output_type": "stream",
     "text": [
      "      1/100      0.93G      2.114         20         64: 100%|██████████| 26/26 [00:00<00:00, 43.67it/s]\n",
      "               classes   top1_acc   top5_acc: 100%|██████████| 4/4 [00:00<00:00, 110.46it/s]"
     ]
    },
    {
     "name": "stdout",
     "output_type": "stream",
     "text": [
      "                   all      0.505      0.826\n"
     ]
    },
    {
     "name": "stderr",
     "output_type": "stream",
     "text": [
      "\n"
     ]
    },
    {
     "name": "stdout",
     "output_type": "stream",
     "text": [
      "\n",
      "      Epoch    GPU_mem       loss  Instances       Size\n"
     ]
    },
    {
     "name": "stderr",
     "output_type": "stream",
     "text": [
      "      2/100      1.04G       1.21         20         64: 100%|██████████| 26/26 [00:00<00:00, 69.68it/s]\n",
      "               classes   top1_acc   top5_acc: 100%|██████████| 4/4 [00:00<00:00, 176.68it/s]"
     ]
    },
    {
     "name": "stdout",
     "output_type": "stream",
     "text": [
      "                   all      0.754      0.996\n"
     ]
    },
    {
     "name": "stderr",
     "output_type": "stream",
     "text": [
      "\n"
     ]
    },
    {
     "name": "stdout",
     "output_type": "stream",
     "text": [
      "\n",
      "      Epoch    GPU_mem       loss  Instances       Size\n"
     ]
    },
    {
     "name": "stderr",
     "output_type": "stream",
     "text": [
      "      3/100      1.04G     0.5823         20         64: 100%|██████████| 26/26 [00:00<00:00, 89.41it/s]\n",
      "               classes   top1_acc   top5_acc: 100%|██████████| 4/4 [00:00<00:00, 173.15it/s]"
     ]
    },
    {
     "name": "stdout",
     "output_type": "stream",
     "text": [
      "                   all      0.913      0.999\n"
     ]
    },
    {
     "name": "stderr",
     "output_type": "stream",
     "text": [
      "\n"
     ]
    },
    {
     "name": "stdout",
     "output_type": "stream",
     "text": [
      "\n",
      "      Epoch    GPU_mem       loss  Instances       Size\n"
     ]
    },
    {
     "name": "stderr",
     "output_type": "stream",
     "text": [
      "      4/100      1.04G     0.3768         20         64: 100%|██████████| 26/26 [00:00<00:00, 92.35it/s]\n",
      "               classes   top1_acc   top5_acc: 100%|██████████| 4/4 [00:00<00:00, 176.58it/s]"
     ]
    },
    {
     "name": "stdout",
     "output_type": "stream",
     "text": [
      "                   all      0.952          1\n"
     ]
    },
    {
     "name": "stderr",
     "output_type": "stream",
     "text": [
      "\n"
     ]
    },
    {
     "name": "stdout",
     "output_type": "stream",
     "text": [
      "\n",
      "      Epoch    GPU_mem       loss  Instances       Size\n"
     ]
    },
    {
     "name": "stderr",
     "output_type": "stream",
     "text": [
      "      5/100      1.04G     0.3472         20         64: 100%|██████████| 26/26 [00:00<00:00, 85.81it/s]\n",
      "               classes   top1_acc   top5_acc: 100%|██████████| 4/4 [00:00<00:00, 173.83it/s]"
     ]
    },
    {
     "name": "stdout",
     "output_type": "stream",
     "text": [
      "                   all      0.973          1\n"
     ]
    },
    {
     "name": "stderr",
     "output_type": "stream",
     "text": [
      "\n"
     ]
    },
    {
     "name": "stdout",
     "output_type": "stream",
     "text": [
      "\n",
      "      Epoch    GPU_mem       loss  Instances       Size\n"
     ]
    },
    {
     "name": "stderr",
     "output_type": "stream",
     "text": [
      "      6/100      1.04G     0.2957         20         64: 100%|██████████| 26/26 [00:00<00:00, 76.91it/s]\n",
      "               classes   top1_acc   top5_acc: 100%|██████████| 4/4 [00:00<00:00, 171.04it/s]"
     ]
    },
    {
     "name": "stdout",
     "output_type": "stream",
     "text": [
      "                   all      0.978          1\n"
     ]
    },
    {
     "name": "stderr",
     "output_type": "stream",
     "text": [
      "\n"
     ]
    },
    {
     "name": "stdout",
     "output_type": "stream",
     "text": [
      "\n",
      "      Epoch    GPU_mem       loss  Instances       Size\n"
     ]
    },
    {
     "name": "stderr",
     "output_type": "stream",
     "text": [
      "      7/100      1.04G     0.2803         20         64: 100%|██████████| 26/26 [00:00<00:00, 75.56it/s]\n",
      "               classes   top1_acc   top5_acc: 100%|██████████| 4/4 [00:00<00:00, 176.10it/s]"
     ]
    },
    {
     "name": "stdout",
     "output_type": "stream",
     "text": [
      "                   all      0.972          1\n"
     ]
    },
    {
     "name": "stderr",
     "output_type": "stream",
     "text": [
      "\n"
     ]
    },
    {
     "name": "stdout",
     "output_type": "stream",
     "text": [
      "\n",
      "      Epoch    GPU_mem       loss  Instances       Size\n"
     ]
    },
    {
     "name": "stderr",
     "output_type": "stream",
     "text": [
      "      8/100      1.04G     0.2593         20         64: 100%|██████████| 26/26 [00:00<00:00, 68.52it/s]\n",
      "               classes   top1_acc   top5_acc: 100%|██████████| 4/4 [00:00<00:00, 140.65it/s]"
     ]
    },
    {
     "name": "stdout",
     "output_type": "stream",
     "text": [
      "                   all      0.979          1\n"
     ]
    },
    {
     "name": "stderr",
     "output_type": "stream",
     "text": [
      "\n"
     ]
    },
    {
     "name": "stdout",
     "output_type": "stream",
     "text": [
      "\n",
      "      Epoch    GPU_mem       loss  Instances       Size\n"
     ]
    },
    {
     "name": "stderr",
     "output_type": "stream",
     "text": [
      "      9/100      1.04G     0.2286         20         64: 100%|██████████| 26/26 [00:00<00:00, 72.50it/s]\n",
      "               classes   top1_acc   top5_acc: 100%|██████████| 4/4 [00:00<00:00, 175.97it/s]"
     ]
    },
    {
     "name": "stdout",
     "output_type": "stream",
     "text": [
      "                   all      0.973          1\n"
     ]
    },
    {
     "name": "stderr",
     "output_type": "stream",
     "text": [
      "\n"
     ]
    },
    {
     "name": "stdout",
     "output_type": "stream",
     "text": [
      "\n",
      "      Epoch    GPU_mem       loss  Instances       Size\n"
     ]
    },
    {
     "name": "stderr",
     "output_type": "stream",
     "text": [
      "     10/100      1.04G     0.2493         20         64: 100%|██████████| 26/26 [00:00<00:00, 75.01it/s]\n",
      "               classes   top1_acc   top5_acc: 100%|██████████| 4/4 [00:00<00:00, 159.03it/s]"
     ]
    },
    {
     "name": "stdout",
     "output_type": "stream",
     "text": [
      "                   all      0.984          1\n"
     ]
    },
    {
     "name": "stderr",
     "output_type": "stream",
     "text": [
      "\n"
     ]
    },
    {
     "name": "stdout",
     "output_type": "stream",
     "text": [
      "\n",
      "      Epoch    GPU_mem       loss  Instances       Size\n"
     ]
    },
    {
     "name": "stderr",
     "output_type": "stream",
     "text": [
      "     11/100      1.04G     0.2406         20         64: 100%|██████████| 26/26 [00:00<00:00, 76.69it/s]\n",
      "               classes   top1_acc   top5_acc: 100%|██████████| 4/4 [00:00<00:00, 122.14it/s]"
     ]
    },
    {
     "name": "stdout",
     "output_type": "stream",
     "text": [
      "                   all      0.988          1\n"
     ]
    },
    {
     "name": "stderr",
     "output_type": "stream",
     "text": [
      "\n"
     ]
    },
    {
     "name": "stdout",
     "output_type": "stream",
     "text": [
      "\n",
      "      Epoch    GPU_mem       loss  Instances       Size\n"
     ]
    },
    {
     "name": "stderr",
     "output_type": "stream",
     "text": [
      "     12/100      1.04G     0.2145         20         64: 100%|██████████| 26/26 [00:00<00:00, 71.99it/s]\n",
      "               classes   top1_acc   top5_acc: 100%|██████████| 4/4 [00:00<00:00, 174.05it/s]"
     ]
    },
    {
     "name": "stdout",
     "output_type": "stream",
     "text": [
      "                   all      0.985          1\n"
     ]
    },
    {
     "name": "stderr",
     "output_type": "stream",
     "text": [
      "\n"
     ]
    },
    {
     "name": "stdout",
     "output_type": "stream",
     "text": [
      "\n",
      "      Epoch    GPU_mem       loss  Instances       Size\n"
     ]
    },
    {
     "name": "stderr",
     "output_type": "stream",
     "text": [
      "     13/100      1.04G     0.2158         20         64: 100%|██████████| 26/26 [00:00<00:00, 70.79it/s]\n",
      "               classes   top1_acc   top5_acc: 100%|██████████| 4/4 [00:00<00:00, 174.76it/s]\n"
     ]
    },
    {
     "name": "stdout",
     "output_type": "stream",
     "text": [
      "                   all      0.987          1\n",
      "\n",
      "      Epoch    GPU_mem       loss  Instances       Size\n"
     ]
    },
    {
     "name": "stderr",
     "output_type": "stream",
     "text": [
      "     14/100      1.04G     0.2242         20         64: 100%|██████████| 26/26 [00:00<00:00, 78.41it/s]\n",
      "               classes   top1_acc   top5_acc: 100%|██████████| 4/4 [00:00<00:00, 177.07it/s]"
     ]
    },
    {
     "name": "stdout",
     "output_type": "stream",
     "text": [
      "                   all      0.988          1\n"
     ]
    },
    {
     "name": "stderr",
     "output_type": "stream",
     "text": [
      "\n"
     ]
    },
    {
     "name": "stdout",
     "output_type": "stream",
     "text": [
      "\n",
      "      Epoch    GPU_mem       loss  Instances       Size\n"
     ]
    },
    {
     "name": "stderr",
     "output_type": "stream",
     "text": [
      "     15/100      1.04G     0.2225         20         64: 100%|██████████| 26/26 [00:00<00:00, 77.53it/s]\n",
      "               classes   top1_acc   top5_acc: 100%|██████████| 4/4 [00:00<00:00, 135.22it/s]"
     ]
    },
    {
     "name": "stdout",
     "output_type": "stream",
     "text": [
      "                   all      0.984          1\n"
     ]
    },
    {
     "name": "stderr",
     "output_type": "stream",
     "text": [
      "\n"
     ]
    },
    {
     "name": "stdout",
     "output_type": "stream",
     "text": [
      "\n",
      "      Epoch    GPU_mem       loss  Instances       Size\n"
     ]
    },
    {
     "name": "stderr",
     "output_type": "stream",
     "text": [
      "     16/100      1.04G     0.2184         20         64: 100%|██████████| 26/26 [00:00<00:00, 76.24it/s]\n",
      "               classes   top1_acc   top5_acc: 100%|██████████| 4/4 [00:00<00:00, 175.67it/s]"
     ]
    },
    {
     "name": "stdout",
     "output_type": "stream",
     "text": [
      "                   all      0.985          1\n"
     ]
    },
    {
     "name": "stderr",
     "output_type": "stream",
     "text": [
      "\n"
     ]
    },
    {
     "name": "stdout",
     "output_type": "stream",
     "text": [
      "\n",
      "      Epoch    GPU_mem       loss  Instances       Size\n"
     ]
    },
    {
     "name": "stderr",
     "output_type": "stream",
     "text": [
      "     17/100      1.04G      0.231         20         64: 100%|██████████| 26/26 [00:00<00:00, 71.72it/s]\n",
      "               classes   top1_acc   top5_acc: 100%|██████████| 4/4 [00:00<00:00, 174.91it/s]"
     ]
    },
    {
     "name": "stdout",
     "output_type": "stream",
     "text": [
      "                   all      0.986          1\n"
     ]
    },
    {
     "name": "stderr",
     "output_type": "stream",
     "text": [
      "\n"
     ]
    },
    {
     "name": "stdout",
     "output_type": "stream",
     "text": [
      "\n",
      "      Epoch    GPU_mem       loss  Instances       Size\n"
     ]
    },
    {
     "name": "stderr",
     "output_type": "stream",
     "text": [
      "     18/100      1.04G     0.2189         20         64: 100%|██████████| 26/26 [00:00<00:00, 78.49it/s]\n",
      "               classes   top1_acc   top5_acc: 100%|██████████| 4/4 [00:00<00:00, 172.79it/s]"
     ]
    },
    {
     "name": "stdout",
     "output_type": "stream",
     "text": [
      "                   all      0.986          1\n"
     ]
    },
    {
     "name": "stderr",
     "output_type": "stream",
     "text": [
      "\n"
     ]
    },
    {
     "name": "stdout",
     "output_type": "stream",
     "text": [
      "\n",
      "      Epoch    GPU_mem       loss  Instances       Size\n"
     ]
    },
    {
     "name": "stderr",
     "output_type": "stream",
     "text": [
      "     19/100      1.04G     0.2121         20         64: 100%|██████████| 26/26 [00:00<00:00, 70.62it/s]\n",
      "               classes   top1_acc   top5_acc: 100%|██████████| 4/4 [00:00<00:00, 176.02it/s]"
     ]
    },
    {
     "name": "stdout",
     "output_type": "stream",
     "text": [
      "                   all      0.986          1\n"
     ]
    },
    {
     "name": "stderr",
     "output_type": "stream",
     "text": [
      "\n"
     ]
    },
    {
     "name": "stdout",
     "output_type": "stream",
     "text": [
      "\n",
      "      Epoch    GPU_mem       loss  Instances       Size\n"
     ]
    },
    {
     "name": "stderr",
     "output_type": "stream",
     "text": [
      "     20/100      1.04G      0.197         20         64: 100%|██████████| 26/26 [00:00<00:00, 72.50it/s]\n",
      "               classes   top1_acc   top5_acc: 100%|██████████| 4/4 [00:00<00:00, 173.32it/s]"
     ]
    },
    {
     "name": "stdout",
     "output_type": "stream",
     "text": [
      "                   all      0.987          1\n"
     ]
    },
    {
     "name": "stderr",
     "output_type": "stream",
     "text": [
      "\n"
     ]
    },
    {
     "name": "stdout",
     "output_type": "stream",
     "text": [
      "\n",
      "      Epoch    GPU_mem       loss  Instances       Size\n"
     ]
    },
    {
     "name": "stderr",
     "output_type": "stream",
     "text": [
      "     21/100      1.04G     0.1927         20         64: 100%|██████████| 26/26 [00:00<00:00, 85.62it/s]\n",
      "               classes   top1_acc   top5_acc: 100%|██████████| 4/4 [00:00<00:00, 177.01it/s]"
     ]
    },
    {
     "name": "stdout",
     "output_type": "stream",
     "text": [
      "                   all      0.981          1\n"
     ]
    },
    {
     "name": "stderr",
     "output_type": "stream",
     "text": [
      "\n"
     ]
    },
    {
     "name": "stdout",
     "output_type": "stream",
     "text": [
      "\n",
      "      Epoch    GPU_mem       loss  Instances       Size\n"
     ]
    },
    {
     "name": "stderr",
     "output_type": "stream",
     "text": [
      "     22/100      1.04G     0.1984         20         64: 100%|██████████| 26/26 [00:00<00:00, 79.68it/s]\n",
      "               classes   top1_acc   top5_acc: 100%|██████████| 4/4 [00:00<00:00, 173.08it/s]"
     ]
    },
    {
     "name": "stdout",
     "output_type": "stream",
     "text": [
      "                   all      0.987          1\n"
     ]
    },
    {
     "name": "stderr",
     "output_type": "stream",
     "text": [
      "\n"
     ]
    },
    {
     "name": "stdout",
     "output_type": "stream",
     "text": [
      "\n",
      "      Epoch    GPU_mem       loss  Instances       Size\n"
     ]
    },
    {
     "name": "stderr",
     "output_type": "stream",
     "text": [
      "     23/100      1.04G     0.1909         20         64: 100%|██████████| 26/26 [00:00<00:00, 81.86it/s]\n",
      "               classes   top1_acc   top5_acc: 100%|██████████| 4/4 [00:00<00:00, 172.47it/s]"
     ]
    },
    {
     "name": "stdout",
     "output_type": "stream",
     "text": [
      "                   all      0.988          1\n"
     ]
    },
    {
     "name": "stderr",
     "output_type": "stream",
     "text": [
      "\n"
     ]
    },
    {
     "name": "stdout",
     "output_type": "stream",
     "text": [
      "\n",
      "      Epoch    GPU_mem       loss  Instances       Size\n"
     ]
    },
    {
     "name": "stderr",
     "output_type": "stream",
     "text": [
      "     24/100      1.04G      0.208         20         64: 100%|██████████| 26/26 [00:00<00:00, 75.30it/s]\n",
      "               classes   top1_acc   top5_acc: 100%|██████████| 4/4 [00:00<00:00, 137.96it/s]"
     ]
    },
    {
     "name": "stdout",
     "output_type": "stream",
     "text": [
      "                   all      0.987          1\n"
     ]
    },
    {
     "name": "stderr",
     "output_type": "stream",
     "text": [
      "\n"
     ]
    },
    {
     "name": "stdout",
     "output_type": "stream",
     "text": [
      "\n",
      "      Epoch    GPU_mem       loss  Instances       Size\n"
     ]
    },
    {
     "name": "stderr",
     "output_type": "stream",
     "text": [
      "     25/100      1.04G     0.2043         20         64: 100%|██████████| 26/26 [00:00<00:00, 74.75it/s]\n",
      "               classes   top1_acc   top5_acc: 100%|██████████| 4/4 [00:00<00:00, 146.15it/s]"
     ]
    },
    {
     "name": "stdout",
     "output_type": "stream",
     "text": [
      "                   all      0.986          1\n"
     ]
    },
    {
     "name": "stderr",
     "output_type": "stream",
     "text": [
      "\n"
     ]
    },
    {
     "name": "stdout",
     "output_type": "stream",
     "text": [
      "\n",
      "      Epoch    GPU_mem       loss  Instances       Size\n"
     ]
    },
    {
     "name": "stderr",
     "output_type": "stream",
     "text": [
      "     26/100      1.04G     0.1865         20         64: 100%|██████████| 26/26 [00:00<00:00, 74.21it/s]\n",
      "               classes   top1_acc   top5_acc: 100%|██████████| 4/4 [00:00<00:00, 173.38it/s]"
     ]
    },
    {
     "name": "stdout",
     "output_type": "stream",
     "text": [
      "                   all      0.985          1\n"
     ]
    },
    {
     "name": "stderr",
     "output_type": "stream",
     "text": [
      "\n"
     ]
    },
    {
     "name": "stdout",
     "output_type": "stream",
     "text": [
      "\n",
      "      Epoch    GPU_mem       loss  Instances       Size\n"
     ]
    },
    {
     "name": "stderr",
     "output_type": "stream",
     "text": [
      "     27/100      1.04G     0.1727         20         64: 100%|██████████| 26/26 [00:00<00:00, 72.32it/s]\n",
      "               classes   top1_acc   top5_acc: 100%|██████████| 4/4 [00:00<00:00, 174.46it/s]"
     ]
    },
    {
     "name": "stdout",
     "output_type": "stream",
     "text": [
      "                   all      0.988          1\n"
     ]
    },
    {
     "name": "stderr",
     "output_type": "stream",
     "text": [
      "\n"
     ]
    },
    {
     "name": "stdout",
     "output_type": "stream",
     "text": [
      "\n",
      "      Epoch    GPU_mem       loss  Instances       Size\n"
     ]
    },
    {
     "name": "stderr",
     "output_type": "stream",
     "text": [
      "     28/100      1.04G     0.1712         20         64: 100%|██████████| 26/26 [00:00<00:00, 75.45it/s]\n",
      "               classes   top1_acc   top5_acc: 100%|██████████| 4/4 [00:00<00:00, 171.22it/s]"
     ]
    },
    {
     "name": "stdout",
     "output_type": "stream",
     "text": [
      "                   all      0.987          1\n"
     ]
    },
    {
     "name": "stderr",
     "output_type": "stream",
     "text": [
      "\n"
     ]
    },
    {
     "name": "stdout",
     "output_type": "stream",
     "text": [
      "\n",
      "      Epoch    GPU_mem       loss  Instances       Size\n"
     ]
    },
    {
     "name": "stderr",
     "output_type": "stream",
     "text": [
      "     29/100      1.04G     0.1658         20         64: 100%|██████████| 26/26 [00:00<00:00, 72.60it/s]\n",
      "               classes   top1_acc   top5_acc: 100%|██████████| 4/4 [00:00<00:00, 176.63it/s]"
     ]
    },
    {
     "name": "stdout",
     "output_type": "stream",
     "text": [
      "                   all       0.99          1\n"
     ]
    },
    {
     "name": "stderr",
     "output_type": "stream",
     "text": [
      "\n"
     ]
    },
    {
     "name": "stdout",
     "output_type": "stream",
     "text": [
      "\n",
      "      Epoch    GPU_mem       loss  Instances       Size\n"
     ]
    },
    {
     "name": "stderr",
     "output_type": "stream",
     "text": [
      "     30/100      1.04G     0.1653         20         64: 100%|██████████| 26/26 [00:00<00:00, 79.05it/s]\n",
      "               classes   top1_acc   top5_acc: 100%|██████████| 4/4 [00:00<00:00, 175.18it/s]"
     ]
    },
    {
     "name": "stdout",
     "output_type": "stream",
     "text": [
      "                   all      0.988          1\n"
     ]
    },
    {
     "name": "stderr",
     "output_type": "stream",
     "text": [
      "\n"
     ]
    },
    {
     "name": "stdout",
     "output_type": "stream",
     "text": [
      "\n",
      "      Epoch    GPU_mem       loss  Instances       Size\n"
     ]
    },
    {
     "name": "stderr",
     "output_type": "stream",
     "text": [
      "     31/100      1.04G     0.1773         20         64: 100%|██████████| 26/26 [00:00<00:00, 68.33it/s]\n",
      "               classes   top1_acc   top5_acc: 100%|██████████| 4/4 [00:00<00:00, 174.52it/s]"
     ]
    },
    {
     "name": "stdout",
     "output_type": "stream",
     "text": [
      "                   all      0.991          1\n"
     ]
    },
    {
     "name": "stderr",
     "output_type": "stream",
     "text": [
      "\n"
     ]
    },
    {
     "name": "stdout",
     "output_type": "stream",
     "text": [
      "\n",
      "      Epoch    GPU_mem       loss  Instances       Size\n"
     ]
    },
    {
     "name": "stderr",
     "output_type": "stream",
     "text": [
      "     32/100      1.04G     0.1929         20         64: 100%|██████████| 26/26 [00:00<00:00, 73.13it/s]\n",
      "               classes   top1_acc   top5_acc: 100%|██████████| 4/4 [00:00<00:00, 177.43it/s]"
     ]
    },
    {
     "name": "stdout",
     "output_type": "stream",
     "text": [
      "                   all      0.985      0.999\n"
     ]
    },
    {
     "name": "stderr",
     "output_type": "stream",
     "text": [
      "\n"
     ]
    },
    {
     "name": "stdout",
     "output_type": "stream",
     "text": [
      "\n",
      "      Epoch    GPU_mem       loss  Instances       Size\n"
     ]
    },
    {
     "name": "stderr",
     "output_type": "stream",
     "text": [
      "     33/100      1.04G     0.2198         20         64: 100%|██████████| 26/26 [00:00<00:00, 65.80it/s]\n",
      "               classes   top1_acc   top5_acc: 100%|██████████| 4/4 [00:00<00:00, 138.95it/s]"
     ]
    },
    {
     "name": "stdout",
     "output_type": "stream",
     "text": [
      "                   all      0.985          1\n"
     ]
    },
    {
     "name": "stderr",
     "output_type": "stream",
     "text": [
      "\n"
     ]
    },
    {
     "name": "stdout",
     "output_type": "stream",
     "text": [
      "\n",
      "      Epoch    GPU_mem       loss  Instances       Size\n"
     ]
    },
    {
     "name": "stderr",
     "output_type": "stream",
     "text": [
      "     34/100      1.04G     0.1971         20         64: 100%|██████████| 26/26 [00:00<00:00, 74.41it/s]\n",
      "               classes   top1_acc   top5_acc: 100%|██████████| 4/4 [00:00<00:00, 174.42it/s]"
     ]
    },
    {
     "name": "stdout",
     "output_type": "stream",
     "text": [
      "                   all      0.985          1\n"
     ]
    },
    {
     "name": "stderr",
     "output_type": "stream",
     "text": [
      "\n"
     ]
    },
    {
     "name": "stdout",
     "output_type": "stream",
     "text": [
      "\n",
      "      Epoch    GPU_mem       loss  Instances       Size\n"
     ]
    },
    {
     "name": "stderr",
     "output_type": "stream",
     "text": [
      "     35/100      1.04G     0.1685         20         64: 100%|██████████| 26/26 [00:00<00:00, 88.24it/s]\n",
      "               classes   top1_acc   top5_acc: 100%|██████████| 4/4 [00:00<00:00, 165.64it/s]"
     ]
    },
    {
     "name": "stdout",
     "output_type": "stream",
     "text": [
      "                   all      0.987          1\n"
     ]
    },
    {
     "name": "stderr",
     "output_type": "stream",
     "text": [
      "\n"
     ]
    },
    {
     "name": "stdout",
     "output_type": "stream",
     "text": [
      "\n",
      "      Epoch    GPU_mem       loss  Instances       Size\n"
     ]
    },
    {
     "name": "stderr",
     "output_type": "stream",
     "text": [
      "     36/100      1.04G     0.1886         20         64: 100%|██████████| 26/26 [00:00<00:00, 71.62it/s]\n",
      "               classes   top1_acc   top5_acc: 100%|██████████| 4/4 [00:00<00:00, 141.80it/s]\n"
     ]
    },
    {
     "name": "stdout",
     "output_type": "stream",
     "text": [
      "                   all      0.987          1\n",
      "\n",
      "      Epoch    GPU_mem       loss  Instances       Size\n"
     ]
    },
    {
     "name": "stderr",
     "output_type": "stream",
     "text": [
      "     37/100      1.04G     0.1774         20         64: 100%|██████████| 26/26 [00:00<00:00, 80.85it/s]\n",
      "               classes   top1_acc   top5_acc: 100%|██████████| 4/4 [00:00<00:00, 170.93it/s]"
     ]
    },
    {
     "name": "stdout",
     "output_type": "stream",
     "text": [
      "                   all      0.986          1\n"
     ]
    },
    {
     "name": "stderr",
     "output_type": "stream",
     "text": [
      "\n"
     ]
    },
    {
     "name": "stdout",
     "output_type": "stream",
     "text": [
      "\n",
      "      Epoch    GPU_mem       loss  Instances       Size\n"
     ]
    },
    {
     "name": "stderr",
     "output_type": "stream",
     "text": [
      "     38/100      1.04G     0.1714         20         64: 100%|██████████| 26/26 [00:00<00:00, 68.45it/s]\n",
      "               classes   top1_acc   top5_acc: 100%|██████████| 4/4 [00:00<00:00, 176.71it/s]"
     ]
    },
    {
     "name": "stdout",
     "output_type": "stream",
     "text": [
      "                   all      0.987          1\n"
     ]
    },
    {
     "name": "stderr",
     "output_type": "stream",
     "text": [
      "\n"
     ]
    },
    {
     "name": "stdout",
     "output_type": "stream",
     "text": [
      "\n",
      "      Epoch    GPU_mem       loss  Instances       Size\n"
     ]
    },
    {
     "name": "stderr",
     "output_type": "stream",
     "text": [
      "     39/100      1.04G     0.1568         20         64: 100%|██████████| 26/26 [00:00<00:00, 79.48it/s]\n",
      "               classes   top1_acc   top5_acc: 100%|██████████| 4/4 [00:00<00:00, 171.65it/s]"
     ]
    },
    {
     "name": "stdout",
     "output_type": "stream",
     "text": [
      "                   all      0.989          1\n"
     ]
    },
    {
     "name": "stderr",
     "output_type": "stream",
     "text": [
      "\n"
     ]
    },
    {
     "name": "stdout",
     "output_type": "stream",
     "text": [
      "\n",
      "      Epoch    GPU_mem       loss  Instances       Size\n"
     ]
    },
    {
     "name": "stderr",
     "output_type": "stream",
     "text": [
      "     40/100      1.04G     0.1645         20         64: 100%|██████████| 26/26 [00:00<00:00, 90.48it/s]\n",
      "               classes   top1_acc   top5_acc: 100%|██████████| 4/4 [00:00<00:00, 173.71it/s]"
     ]
    },
    {
     "name": "stdout",
     "output_type": "stream",
     "text": [
      "                   all      0.992          1\n"
     ]
    },
    {
     "name": "stderr",
     "output_type": "stream",
     "text": [
      "\n"
     ]
    },
    {
     "name": "stdout",
     "output_type": "stream",
     "text": [
      "\n",
      "      Epoch    GPU_mem       loss  Instances       Size\n"
     ]
    },
    {
     "name": "stderr",
     "output_type": "stream",
     "text": [
      "     41/100      1.04G     0.1631         20         64: 100%|██████████| 26/26 [00:00<00:00, 75.88it/s]\n",
      "               classes   top1_acc   top5_acc: 100%|██████████| 4/4 [00:00<00:00, 150.05it/s]"
     ]
    },
    {
     "name": "stdout",
     "output_type": "stream",
     "text": [
      "                   all      0.989          1\n"
     ]
    },
    {
     "name": "stderr",
     "output_type": "stream",
     "text": [
      "\n"
     ]
    },
    {
     "name": "stdout",
     "output_type": "stream",
     "text": [
      "\n",
      "      Epoch    GPU_mem       loss  Instances       Size\n"
     ]
    },
    {
     "name": "stderr",
     "output_type": "stream",
     "text": [
      "     42/100      1.04G     0.1587         20         64: 100%|██████████| 26/26 [00:00<00:00, 73.07it/s]\n",
      "               classes   top1_acc   top5_acc: 100%|██████████| 4/4 [00:00<00:00, 175.01it/s]"
     ]
    },
    {
     "name": "stdout",
     "output_type": "stream",
     "text": [
      "                   all      0.989          1\n"
     ]
    },
    {
     "name": "stderr",
     "output_type": "stream",
     "text": [
      "\n"
     ]
    },
    {
     "name": "stdout",
     "output_type": "stream",
     "text": [
      "\n",
      "      Epoch    GPU_mem       loss  Instances       Size\n"
     ]
    },
    {
     "name": "stderr",
     "output_type": "stream",
     "text": [
      "     43/100      1.04G     0.1611         20         64: 100%|██████████| 26/26 [00:00<00:00, 77.32it/s]\n",
      "               classes   top1_acc   top5_acc: 100%|██████████| 4/4 [00:00<00:00, 173.65it/s]"
     ]
    },
    {
     "name": "stdout",
     "output_type": "stream",
     "text": [
      "                   all       0.99          1\n"
     ]
    },
    {
     "name": "stderr",
     "output_type": "stream",
     "text": [
      "\n"
     ]
    },
    {
     "name": "stdout",
     "output_type": "stream",
     "text": [
      "\n",
      "      Epoch    GPU_mem       loss  Instances       Size\n"
     ]
    },
    {
     "name": "stderr",
     "output_type": "stream",
     "text": [
      "     44/100      1.04G     0.1601         20         64: 100%|██████████| 26/26 [00:00<00:00, 72.07it/s]\n",
      "               classes   top1_acc   top5_acc: 100%|██████████| 4/4 [00:00<00:00, 174.63it/s]"
     ]
    },
    {
     "name": "stdout",
     "output_type": "stream",
     "text": [
      "                   all      0.989          1\n"
     ]
    },
    {
     "name": "stderr",
     "output_type": "stream",
     "text": [
      "\n"
     ]
    },
    {
     "name": "stdout",
     "output_type": "stream",
     "text": [
      "\n",
      "      Epoch    GPU_mem       loss  Instances       Size\n"
     ]
    },
    {
     "name": "stderr",
     "output_type": "stream",
     "text": [
      "     45/100      1.04G     0.1616         20         64: 100%|██████████| 26/26 [00:00<00:00, 80.17it/s]\n",
      "               classes   top1_acc   top5_acc: 100%|██████████| 4/4 [00:00<00:00, 175.71it/s]\n"
     ]
    },
    {
     "name": "stdout",
     "output_type": "stream",
     "text": [
      "                   all      0.992          1\n",
      "\n",
      "      Epoch    GPU_mem       loss  Instances       Size\n"
     ]
    },
    {
     "name": "stderr",
     "output_type": "stream",
     "text": [
      "     46/100      1.04G     0.1683         20         64: 100%|██████████| 26/26 [00:00<00:00, 72.26it/s]\n",
      "               classes   top1_acc   top5_acc: 100%|██████████| 4/4 [00:00<00:00, 176.07it/s]\n"
     ]
    },
    {
     "name": "stdout",
     "output_type": "stream",
     "text": [
      "                   all      0.991          1\n",
      "\n",
      "      Epoch    GPU_mem       loss  Instances       Size\n"
     ]
    },
    {
     "name": "stderr",
     "output_type": "stream",
     "text": [
      "     47/100      1.04G     0.1552         20         64: 100%|██████████| 26/26 [00:00<00:00, 75.92it/s]\n",
      "               classes   top1_acc   top5_acc: 100%|██████████| 4/4 [00:00<00:00, 172.32it/s]"
     ]
    },
    {
     "name": "stdout",
     "output_type": "stream",
     "text": [
      "                   all      0.988          1\n"
     ]
    },
    {
     "name": "stderr",
     "output_type": "stream",
     "text": [
      "\n"
     ]
    },
    {
     "name": "stdout",
     "output_type": "stream",
     "text": [
      "\n",
      "      Epoch    GPU_mem       loss  Instances       Size\n"
     ]
    },
    {
     "name": "stderr",
     "output_type": "stream",
     "text": [
      "     48/100      1.04G      0.151         20         64: 100%|██████████| 26/26 [00:00<00:00, 81.70it/s]\n",
      "               classes   top1_acc   top5_acc: 100%|██████████| 4/4 [00:00<00:00, 160.31it/s]"
     ]
    },
    {
     "name": "stdout",
     "output_type": "stream",
     "text": [
      "                   all      0.991          1\n"
     ]
    },
    {
     "name": "stderr",
     "output_type": "stream",
     "text": [
      "\n"
     ]
    },
    {
     "name": "stdout",
     "output_type": "stream",
     "text": [
      "\n",
      "      Epoch    GPU_mem       loss  Instances       Size\n"
     ]
    },
    {
     "name": "stderr",
     "output_type": "stream",
     "text": [
      "     49/100      1.04G     0.1593         20         64: 100%|██████████| 26/26 [00:00<00:00, 71.23it/s]\n",
      "               classes   top1_acc   top5_acc: 100%|██████████| 4/4 [00:00<00:00, 174.99it/s]"
     ]
    },
    {
     "name": "stdout",
     "output_type": "stream",
     "text": [
      "                   all      0.987          1\n"
     ]
    },
    {
     "name": "stderr",
     "output_type": "stream",
     "text": [
      "\n"
     ]
    },
    {
     "name": "stdout",
     "output_type": "stream",
     "text": [
      "\n",
      "      Epoch    GPU_mem       loss  Instances       Size\n"
     ]
    },
    {
     "name": "stderr",
     "output_type": "stream",
     "text": [
      "     50/100      1.04G     0.1541         20         64: 100%|██████████| 26/26 [00:00<00:00, 77.82it/s]\n",
      "               classes   top1_acc   top5_acc: 100%|██████████| 4/4 [00:00<00:00, 170.27it/s]"
     ]
    },
    {
     "name": "stdout",
     "output_type": "stream",
     "text": [
      "                   all       0.99          1\n"
     ]
    },
    {
     "name": "stderr",
     "output_type": "stream",
     "text": [
      "\n"
     ]
    },
    {
     "name": "stdout",
     "output_type": "stream",
     "text": [
      "\n",
      "      Epoch    GPU_mem       loss  Instances       Size\n"
     ]
    },
    {
     "name": "stderr",
     "output_type": "stream",
     "text": [
      "     51/100      1.04G     0.1585         20         64: 100%|██████████| 26/26 [00:00<00:00, 76.00it/s]\n",
      "               classes   top1_acc   top5_acc: 100%|██████████| 4/4 [00:00<00:00, 149.02it/s]"
     ]
    },
    {
     "name": "stdout",
     "output_type": "stream",
     "text": [
      "                   all      0.987          1\n"
     ]
    },
    {
     "name": "stderr",
     "output_type": "stream",
     "text": [
      "\n"
     ]
    },
    {
     "name": "stdout",
     "output_type": "stream",
     "text": [
      "\n",
      "      Epoch    GPU_mem       loss  Instances       Size\n"
     ]
    },
    {
     "name": "stderr",
     "output_type": "stream",
     "text": [
      "     52/100      1.04G     0.1478         20         64: 100%|██████████| 26/26 [00:00<00:00, 72.35it/s]\n",
      "               classes   top1_acc   top5_acc: 100%|██████████| 4/4 [00:00<00:00, 175.58it/s]"
     ]
    },
    {
     "name": "stdout",
     "output_type": "stream",
     "text": [
      "                   all       0.99          1\n"
     ]
    },
    {
     "name": "stderr",
     "output_type": "stream",
     "text": [
      "\n"
     ]
    },
    {
     "name": "stdout",
     "output_type": "stream",
     "text": [
      "\n",
      "      Epoch    GPU_mem       loss  Instances       Size\n"
     ]
    },
    {
     "name": "stderr",
     "output_type": "stream",
     "text": [
      "     53/100      1.04G     0.1275         20         64: 100%|██████████| 26/26 [00:00<00:00, 75.17it/s]\n",
      "               classes   top1_acc   top5_acc: 100%|██████████| 4/4 [00:00<00:00, 172.20it/s]"
     ]
    },
    {
     "name": "stdout",
     "output_type": "stream",
     "text": [
      "                   all      0.989          1\n"
     ]
    },
    {
     "name": "stderr",
     "output_type": "stream",
     "text": [
      "\n"
     ]
    },
    {
     "name": "stdout",
     "output_type": "stream",
     "text": [
      "\n",
      "      Epoch    GPU_mem       loss  Instances       Size\n"
     ]
    },
    {
     "name": "stderr",
     "output_type": "stream",
     "text": [
      "     54/100      1.04G     0.1506         20         64: 100%|██████████| 26/26 [00:00<00:00, 75.05it/s]\n",
      "               classes   top1_acc   top5_acc: 100%|██████████| 4/4 [00:00<00:00, 169.72it/s]"
     ]
    },
    {
     "name": "stdout",
     "output_type": "stream",
     "text": [
      "                   all       0.99          1\n"
     ]
    },
    {
     "name": "stderr",
     "output_type": "stream",
     "text": [
      "\n"
     ]
    },
    {
     "name": "stdout",
     "output_type": "stream",
     "text": [
      "\n",
      "      Epoch    GPU_mem       loss  Instances       Size\n"
     ]
    },
    {
     "name": "stderr",
     "output_type": "stream",
     "text": [
      "     55/100      1.04G     0.1471         20         64: 100%|██████████| 26/26 [00:00<00:00, 76.04it/s]\n",
      "               classes   top1_acc   top5_acc: 100%|██████████| 4/4 [00:00<00:00, 138.43it/s]"
     ]
    },
    {
     "name": "stdout",
     "output_type": "stream",
     "text": [
      "                   all      0.987          1\n"
     ]
    },
    {
     "name": "stderr",
     "output_type": "stream",
     "text": [
      "\n"
     ]
    },
    {
     "name": "stdout",
     "output_type": "stream",
     "text": [
      "\n",
      "      Epoch    GPU_mem       loss  Instances       Size\n"
     ]
    },
    {
     "name": "stderr",
     "output_type": "stream",
     "text": [
      "     56/100      1.04G     0.1461         20         64: 100%|██████████| 26/26 [00:00<00:00, 69.98it/s]\n",
      "               classes   top1_acc   top5_acc: 100%|██████████| 4/4 [00:00<00:00, 149.54it/s]"
     ]
    },
    {
     "name": "stdout",
     "output_type": "stream",
     "text": [
      "                   all      0.989          1\n"
     ]
    },
    {
     "name": "stderr",
     "output_type": "stream",
     "text": [
      "\n"
     ]
    },
    {
     "name": "stdout",
     "output_type": "stream",
     "text": [
      "\n",
      "      Epoch    GPU_mem       loss  Instances       Size\n"
     ]
    },
    {
     "name": "stderr",
     "output_type": "stream",
     "text": [
      "     57/100      1.04G     0.1395         20         64: 100%|██████████| 26/26 [00:00<00:00, 68.14it/s]\n",
      "               classes   top1_acc   top5_acc: 100%|██████████| 4/4 [00:00<00:00, 171.76it/s]"
     ]
    },
    {
     "name": "stdout",
     "output_type": "stream",
     "text": [
      "                   all      0.991          1\n"
     ]
    },
    {
     "name": "stderr",
     "output_type": "stream",
     "text": [
      "\n"
     ]
    },
    {
     "name": "stdout",
     "output_type": "stream",
     "text": [
      "\n",
      "      Epoch    GPU_mem       loss  Instances       Size\n"
     ]
    },
    {
     "name": "stderr",
     "output_type": "stream",
     "text": [
      "     58/100      1.04G     0.1491         20         64: 100%|██████████| 26/26 [00:00<00:00, 75.35it/s]\n",
      "               classes   top1_acc   top5_acc: 100%|██████████| 4/4 [00:00<00:00, 174.75it/s]"
     ]
    },
    {
     "name": "stdout",
     "output_type": "stream",
     "text": [
      "                   all      0.989          1\n"
     ]
    },
    {
     "name": "stderr",
     "output_type": "stream",
     "text": [
      "\n"
     ]
    },
    {
     "name": "stdout",
     "output_type": "stream",
     "text": [
      "\n",
      "      Epoch    GPU_mem       loss  Instances       Size\n"
     ]
    },
    {
     "name": "stderr",
     "output_type": "stream",
     "text": [
      "     59/100      1.04G     0.1373         20         64: 100%|██████████| 26/26 [00:00<00:00, 72.91it/s]\n",
      "               classes   top1_acc   top5_acc: 100%|██████████| 4/4 [00:00<00:00, 175.61it/s]"
     ]
    },
    {
     "name": "stdout",
     "output_type": "stream",
     "text": [
      "                   all      0.992          1\n"
     ]
    },
    {
     "name": "stderr",
     "output_type": "stream",
     "text": [
      "\n"
     ]
    },
    {
     "name": "stdout",
     "output_type": "stream",
     "text": [
      "\n",
      "      Epoch    GPU_mem       loss  Instances       Size\n"
     ]
    },
    {
     "name": "stderr",
     "output_type": "stream",
     "text": [
      "     60/100      1.04G     0.1436         20         64: 100%|██████████| 26/26 [00:00<00:00, 75.38it/s]\n",
      "               classes   top1_acc   top5_acc: 100%|██████████| 4/4 [00:00<00:00, 173.69it/s]"
     ]
    },
    {
     "name": "stdout",
     "output_type": "stream",
     "text": [
      "                   all      0.991          1\n"
     ]
    },
    {
     "name": "stderr",
     "output_type": "stream",
     "text": [
      "\n"
     ]
    },
    {
     "name": "stdout",
     "output_type": "stream",
     "text": [
      "\n",
      "      Epoch    GPU_mem       loss  Instances       Size\n"
     ]
    },
    {
     "name": "stderr",
     "output_type": "stream",
     "text": [
      "     61/100      1.04G     0.1437         20         64: 100%|██████████| 26/26 [00:00<00:00, 76.69it/s]\n",
      "               classes   top1_acc   top5_acc: 100%|██████████| 4/4 [00:00<00:00, 175.36it/s]"
     ]
    },
    {
     "name": "stdout",
     "output_type": "stream",
     "text": [
      "                   all      0.994          1\n"
     ]
    },
    {
     "name": "stderr",
     "output_type": "stream",
     "text": [
      "\n"
     ]
    },
    {
     "name": "stdout",
     "output_type": "stream",
     "text": [
      "\n",
      "      Epoch    GPU_mem       loss  Instances       Size\n"
     ]
    },
    {
     "name": "stderr",
     "output_type": "stream",
     "text": [
      "     62/100      1.04G     0.1366         20         64: 100%|██████████| 26/26 [00:00<00:00, 73.55it/s]\n",
      "               classes   top1_acc   top5_acc: 100%|██████████| 4/4 [00:00<00:00, 175.59it/s]"
     ]
    },
    {
     "name": "stdout",
     "output_type": "stream",
     "text": [
      "                   all       0.99          1\n"
     ]
    },
    {
     "name": "stderr",
     "output_type": "stream",
     "text": [
      "\n"
     ]
    },
    {
     "name": "stdout",
     "output_type": "stream",
     "text": [
      "\n",
      "      Epoch    GPU_mem       loss  Instances       Size\n"
     ]
    },
    {
     "name": "stderr",
     "output_type": "stream",
     "text": [
      "     63/100      1.04G     0.1413         20         64: 100%|██████████| 26/26 [00:00<00:00, 73.31it/s]\n",
      "               classes   top1_acc   top5_acc: 100%|██████████| 4/4 [00:00<00:00, 144.96it/s]"
     ]
    },
    {
     "name": "stdout",
     "output_type": "stream",
     "text": [
      "                   all      0.989          1\n"
     ]
    },
    {
     "name": "stderr",
     "output_type": "stream",
     "text": [
      "\n"
     ]
    },
    {
     "name": "stdout",
     "output_type": "stream",
     "text": [
      "\n",
      "      Epoch    GPU_mem       loss  Instances       Size\n"
     ]
    },
    {
     "name": "stderr",
     "output_type": "stream",
     "text": [
      "     64/100      1.04G     0.1285         20         64: 100%|██████████| 26/26 [00:00<00:00, 73.93it/s]\n",
      "               classes   top1_acc   top5_acc: 100%|██████████| 4/4 [00:00<00:00, 173.19it/s]"
     ]
    },
    {
     "name": "stdout",
     "output_type": "stream",
     "text": [
      "                   all      0.991          1\n"
     ]
    },
    {
     "name": "stderr",
     "output_type": "stream",
     "text": [
      "\n"
     ]
    },
    {
     "name": "stdout",
     "output_type": "stream",
     "text": [
      "\n",
      "      Epoch    GPU_mem       loss  Instances       Size\n"
     ]
    },
    {
     "name": "stderr",
     "output_type": "stream",
     "text": [
      "     65/100      1.04G     0.1263         20         64: 100%|██████████| 26/26 [00:00<00:00, 73.00it/s]\n",
      "               classes   top1_acc   top5_acc: 100%|██████████| 4/4 [00:00<00:00, 176.47it/s]"
     ]
    },
    {
     "name": "stdout",
     "output_type": "stream",
     "text": [
      "                   all      0.991          1\n"
     ]
    },
    {
     "name": "stderr",
     "output_type": "stream",
     "text": [
      "\n"
     ]
    },
    {
     "name": "stdout",
     "output_type": "stream",
     "text": [
      "\n",
      "      Epoch    GPU_mem       loss  Instances       Size\n"
     ]
    },
    {
     "name": "stderr",
     "output_type": "stream",
     "text": [
      "     66/100      1.04G      0.135         20         64: 100%|██████████| 26/26 [00:00<00:00, 73.62it/s]\n",
      "               classes   top1_acc   top5_acc: 100%|██████████| 4/4 [00:00<00:00, 173.91it/s]"
     ]
    },
    {
     "name": "stdout",
     "output_type": "stream",
     "text": [
      "                   all      0.989          1\n"
     ]
    },
    {
     "name": "stderr",
     "output_type": "stream",
     "text": [
      "\n"
     ]
    },
    {
     "name": "stdout",
     "output_type": "stream",
     "text": [
      "\n",
      "      Epoch    GPU_mem       loss  Instances       Size\n"
     ]
    },
    {
     "name": "stderr",
     "output_type": "stream",
     "text": [
      "     67/100      1.04G     0.1389         20         64: 100%|██████████| 26/26 [00:00<00:00, 78.70it/s]\n",
      "               classes   top1_acc   top5_acc: 100%|██████████| 4/4 [00:00<00:00, 170.85it/s]"
     ]
    },
    {
     "name": "stdout",
     "output_type": "stream",
     "text": [
      "                   all      0.991          1\n"
     ]
    },
    {
     "name": "stderr",
     "output_type": "stream",
     "text": [
      "\n"
     ]
    },
    {
     "name": "stdout",
     "output_type": "stream",
     "text": [
      "\n",
      "      Epoch    GPU_mem       loss  Instances       Size\n"
     ]
    },
    {
     "name": "stderr",
     "output_type": "stream",
     "text": [
      "     68/100      1.04G     0.1286         20         64: 100%|██████████| 26/26 [00:00<00:00, 73.43it/s]\n",
      "               classes   top1_acc   top5_acc: 100%|██████████| 4/4 [00:00<00:00, 174.64it/s]"
     ]
    },
    {
     "name": "stdout",
     "output_type": "stream",
     "text": [
      "                   all      0.991          1\n"
     ]
    },
    {
     "name": "stderr",
     "output_type": "stream",
     "text": [
      "\n"
     ]
    },
    {
     "name": "stdout",
     "output_type": "stream",
     "text": [
      "\n",
      "      Epoch    GPU_mem       loss  Instances       Size\n"
     ]
    },
    {
     "name": "stderr",
     "output_type": "stream",
     "text": [
      "     69/100      1.04G     0.1496         20         64: 100%|██████████| 26/26 [00:00<00:00, 71.65it/s]\n",
      "               classes   top1_acc   top5_acc: 100%|██████████| 4/4 [00:00<00:00, 174.74it/s]"
     ]
    },
    {
     "name": "stdout",
     "output_type": "stream",
     "text": [
      "                   all       0.99          1\n"
     ]
    },
    {
     "name": "stderr",
     "output_type": "stream",
     "text": [
      "\n"
     ]
    },
    {
     "name": "stdout",
     "output_type": "stream",
     "text": [
      "\n",
      "      Epoch    GPU_mem       loss  Instances       Size\n"
     ]
    },
    {
     "name": "stderr",
     "output_type": "stream",
     "text": [
      "     70/100      1.04G     0.1365         20         64: 100%|██████████| 26/26 [00:00<00:00, 77.45it/s]\n",
      "               classes   top1_acc   top5_acc: 100%|██████████| 4/4 [00:00<00:00, 177.17it/s]"
     ]
    },
    {
     "name": "stdout",
     "output_type": "stream",
     "text": [
      "                   all      0.991          1\n"
     ]
    },
    {
     "name": "stderr",
     "output_type": "stream",
     "text": [
      "\n"
     ]
    },
    {
     "name": "stdout",
     "output_type": "stream",
     "text": [
      "\n",
      "      Epoch    GPU_mem       loss  Instances       Size\n"
     ]
    },
    {
     "name": "stderr",
     "output_type": "stream",
     "text": [
      "     71/100      1.04G     0.1448         20         64: 100%|██████████| 26/26 [00:00<00:00, 66.46it/s]\n",
      "               classes   top1_acc   top5_acc: 100%|██████████| 4/4 [00:00<00:00, 176.15it/s]"
     ]
    },
    {
     "name": "stdout",
     "output_type": "stream",
     "text": [
      "                   all      0.991          1\n"
     ]
    },
    {
     "name": "stderr",
     "output_type": "stream",
     "text": [
      "\n"
     ]
    },
    {
     "name": "stdout",
     "output_type": "stream",
     "text": [
      "\n",
      "      Epoch    GPU_mem       loss  Instances       Size\n"
     ]
    },
    {
     "name": "stderr",
     "output_type": "stream",
     "text": [
      "     72/100      1.04G     0.1387         20         64: 100%|██████████| 26/26 [00:00<00:00, 71.99it/s]\n",
      "               classes   top1_acc   top5_acc: 100%|██████████| 4/4 [00:00<00:00, 177.39it/s]"
     ]
    },
    {
     "name": "stdout",
     "output_type": "stream",
     "text": [
      "                   all      0.991          1\n"
     ]
    },
    {
     "name": "stderr",
     "output_type": "stream",
     "text": [
      "\n"
     ]
    },
    {
     "name": "stdout",
     "output_type": "stream",
     "text": [
      "\n",
      "      Epoch    GPU_mem       loss  Instances       Size\n"
     ]
    },
    {
     "name": "stderr",
     "output_type": "stream",
     "text": [
      "     73/100      1.04G     0.1485         20         64: 100%|██████████| 26/26 [00:00<00:00, 71.94it/s]\n",
      "               classes   top1_acc   top5_acc: 100%|██████████| 4/4 [00:00<00:00, 165.12it/s]"
     ]
    },
    {
     "name": "stdout",
     "output_type": "stream",
     "text": [
      "                   all      0.991          1\n"
     ]
    },
    {
     "name": "stderr",
     "output_type": "stream",
     "text": [
      "\n"
     ]
    },
    {
     "name": "stdout",
     "output_type": "stream",
     "text": [
      "\n",
      "      Epoch    GPU_mem       loss  Instances       Size\n"
     ]
    },
    {
     "name": "stderr",
     "output_type": "stream",
     "text": [
      "     74/100      1.04G     0.1397         20         64: 100%|██████████| 26/26 [00:00<00:00, 67.65it/s]\n",
      "               classes   top1_acc   top5_acc: 100%|██████████| 4/4 [00:00<00:00, 176.01it/s]"
     ]
    },
    {
     "name": "stdout",
     "output_type": "stream",
     "text": [
      "                   all      0.991          1\n"
     ]
    },
    {
     "name": "stderr",
     "output_type": "stream",
     "text": [
      "\n"
     ]
    },
    {
     "name": "stdout",
     "output_type": "stream",
     "text": [
      "\n",
      "      Epoch    GPU_mem       loss  Instances       Size\n"
     ]
    },
    {
     "name": "stderr",
     "output_type": "stream",
     "text": [
      "     75/100      1.04G     0.1349         20         64: 100%|██████████| 26/26 [00:00<00:00, 73.04it/s]\n",
      "               classes   top1_acc   top5_acc: 100%|██████████| 4/4 [00:00<00:00, 148.88it/s]"
     ]
    },
    {
     "name": "stdout",
     "output_type": "stream",
     "text": [
      "                   all      0.991          1\n"
     ]
    },
    {
     "name": "stderr",
     "output_type": "stream",
     "text": [
      "\n"
     ]
    },
    {
     "name": "stdout",
     "output_type": "stream",
     "text": [
      "\n",
      "      Epoch    GPU_mem       loss  Instances       Size\n"
     ]
    },
    {
     "name": "stderr",
     "output_type": "stream",
     "text": [
      "     76/100      1.04G     0.1471         20         64: 100%|██████████| 26/26 [00:00<00:00, 70.78it/s]\n",
      "               classes   top1_acc   top5_acc: 100%|██████████| 4/4 [00:00<00:00, 141.24it/s]"
     ]
    },
    {
     "name": "stdout",
     "output_type": "stream",
     "text": [
      "                   all      0.992          1\n"
     ]
    },
    {
     "name": "stderr",
     "output_type": "stream",
     "text": [
      "\n"
     ]
    },
    {
     "name": "stdout",
     "output_type": "stream",
     "text": [
      "\n",
      "      Epoch    GPU_mem       loss  Instances       Size\n"
     ]
    },
    {
     "name": "stderr",
     "output_type": "stream",
     "text": [
      "     77/100      1.04G     0.1394         20         64: 100%|██████████| 26/26 [00:00<00:00, 74.37it/s]\n",
      "               classes   top1_acc   top5_acc: 100%|██████████| 4/4 [00:00<00:00, 174.58it/s]"
     ]
    },
    {
     "name": "stdout",
     "output_type": "stream",
     "text": [
      "                   all      0.992          1\n"
     ]
    },
    {
     "name": "stderr",
     "output_type": "stream",
     "text": [
      "\n"
     ]
    },
    {
     "name": "stdout",
     "output_type": "stream",
     "text": [
      "\n",
      "      Epoch    GPU_mem       loss  Instances       Size\n"
     ]
    },
    {
     "name": "stderr",
     "output_type": "stream",
     "text": [
      "     78/100      1.04G     0.1381         20         64: 100%|██████████| 26/26 [00:00<00:00, 82.72it/s]\n",
      "               classes   top1_acc   top5_acc: 100%|██████████| 4/4 [00:00<00:00, 170.53it/s]"
     ]
    },
    {
     "name": "stdout",
     "output_type": "stream",
     "text": [
      "                   all      0.991          1\n"
     ]
    },
    {
     "name": "stderr",
     "output_type": "stream",
     "text": [
      "\n"
     ]
    },
    {
     "name": "stdout",
     "output_type": "stream",
     "text": [
      "\n",
      "      Epoch    GPU_mem       loss  Instances       Size\n"
     ]
    },
    {
     "name": "stderr",
     "output_type": "stream",
     "text": [
      "     79/100      1.04G     0.1367         20         64: 100%|██████████| 26/26 [00:00<00:00, 82.87it/s]\n",
      "               classes   top1_acc   top5_acc: 100%|██████████| 4/4 [00:00<00:00, 171.92it/s]"
     ]
    },
    {
     "name": "stdout",
     "output_type": "stream",
     "text": [
      "                   all      0.991          1\n"
     ]
    },
    {
     "name": "stderr",
     "output_type": "stream",
     "text": [
      "\n"
     ]
    },
    {
     "name": "stdout",
     "output_type": "stream",
     "text": [
      "\n",
      "      Epoch    GPU_mem       loss  Instances       Size\n"
     ]
    },
    {
     "name": "stderr",
     "output_type": "stream",
     "text": [
      "     80/100      1.04G     0.1272         20         64: 100%|██████████| 26/26 [00:00<00:00, 85.45it/s]\n",
      "               classes   top1_acc   top5_acc: 100%|██████████| 4/4 [00:00<00:00, 172.46it/s]"
     ]
    },
    {
     "name": "stdout",
     "output_type": "stream",
     "text": [
      "                   all      0.991          1\n"
     ]
    },
    {
     "name": "stderr",
     "output_type": "stream",
     "text": [
      "\n"
     ]
    },
    {
     "name": "stdout",
     "output_type": "stream",
     "text": [
      "\n",
      "      Epoch    GPU_mem       loss  Instances       Size\n"
     ]
    },
    {
     "name": "stderr",
     "output_type": "stream",
     "text": [
      "     81/100      1.04G     0.1391         20         64: 100%|██████████| 26/26 [00:00<00:00, 68.00it/s]\n",
      "               classes   top1_acc   top5_acc: 100%|██████████| 4/4 [00:00<00:00, 172.78it/s]"
     ]
    },
    {
     "name": "stdout",
     "output_type": "stream",
     "text": [
      "                   all      0.991          1\n"
     ]
    },
    {
     "name": "stderr",
     "output_type": "stream",
     "text": [
      "\n"
     ]
    },
    {
     "name": "stdout",
     "output_type": "stream",
     "text": [
      "\n",
      "      Epoch    GPU_mem       loss  Instances       Size\n"
     ]
    },
    {
     "name": "stderr",
     "output_type": "stream",
     "text": [
      "     82/100      1.04G     0.1271         20         64: 100%|██████████| 26/26 [00:00<00:00, 73.61it/s]\n",
      "               classes   top1_acc   top5_acc: 100%|██████████| 4/4 [00:00<00:00, 174.64it/s]"
     ]
    },
    {
     "name": "stdout",
     "output_type": "stream",
     "text": [
      "                   all      0.992          1\n"
     ]
    },
    {
     "name": "stderr",
     "output_type": "stream",
     "text": [
      "\n"
     ]
    },
    {
     "name": "stdout",
     "output_type": "stream",
     "text": [
      "\n",
      "      Epoch    GPU_mem       loss  Instances       Size\n"
     ]
    },
    {
     "name": "stderr",
     "output_type": "stream",
     "text": [
      "     83/100      1.04G     0.1393         20         64: 100%|██████████| 26/26 [00:00<00:00, 76.10it/s]\n",
      "               classes   top1_acc   top5_acc: 100%|██████████| 4/4 [00:00<00:00, 176.38it/s]"
     ]
    },
    {
     "name": "stdout",
     "output_type": "stream",
     "text": [
      "                   all      0.991          1\n"
     ]
    },
    {
     "name": "stderr",
     "output_type": "stream",
     "text": [
      "\n"
     ]
    },
    {
     "name": "stdout",
     "output_type": "stream",
     "text": [
      "\n",
      "      Epoch    GPU_mem       loss  Instances       Size\n"
     ]
    },
    {
     "name": "stderr",
     "output_type": "stream",
     "text": [
      "     84/100      1.04G      0.127         20         64: 100%|██████████| 26/26 [00:00<00:00, 71.57it/s]\n",
      "               classes   top1_acc   top5_acc: 100%|██████████| 4/4 [00:00<00:00, 150.65it/s]"
     ]
    },
    {
     "name": "stdout",
     "output_type": "stream",
     "text": [
      "                   all      0.992          1\n"
     ]
    },
    {
     "name": "stderr",
     "output_type": "stream",
     "text": [
      "\n"
     ]
    },
    {
     "name": "stdout",
     "output_type": "stream",
     "text": [
      "\n",
      "      Epoch    GPU_mem       loss  Instances       Size\n"
     ]
    },
    {
     "name": "stderr",
     "output_type": "stream",
     "text": [
      "     85/100      1.04G     0.1165         20         64: 100%|██████████| 26/26 [00:00<00:00, 74.56it/s]\n",
      "               classes   top1_acc   top5_acc: 100%|██████████| 4/4 [00:00<00:00, 174.04it/s]\n"
     ]
    },
    {
     "name": "stdout",
     "output_type": "stream",
     "text": [
      "                   all      0.994          1\n",
      "\n",
      "      Epoch    GPU_mem       loss  Instances       Size\n"
     ]
    },
    {
     "name": "stderr",
     "output_type": "stream",
     "text": [
      "     86/100      1.04G     0.1243         20         64: 100%|██████████| 26/26 [00:00<00:00, 77.47it/s]\n",
      "               classes   top1_acc   top5_acc: 100%|██████████| 4/4 [00:00<00:00, 139.87it/s]"
     ]
    },
    {
     "name": "stdout",
     "output_type": "stream",
     "text": [
      "                   all      0.992          1\n"
     ]
    },
    {
     "name": "stderr",
     "output_type": "stream",
     "text": [
      "\n"
     ]
    },
    {
     "name": "stdout",
     "output_type": "stream",
     "text": [
      "\n",
      "      Epoch    GPU_mem       loss  Instances       Size\n"
     ]
    },
    {
     "name": "stderr",
     "output_type": "stream",
     "text": [
      "     87/100      1.04G     0.1199         20         64: 100%|██████████| 26/26 [00:00<00:00, 73.57it/s]\n",
      "               classes   top1_acc   top5_acc: 100%|██████████| 4/4 [00:00<00:00, 138.15it/s]"
     ]
    },
    {
     "name": "stdout",
     "output_type": "stream",
     "text": [
      "                   all      0.993          1\n"
     ]
    },
    {
     "name": "stderr",
     "output_type": "stream",
     "text": [
      "\n"
     ]
    },
    {
     "name": "stdout",
     "output_type": "stream",
     "text": [
      "\n",
      "      Epoch    GPU_mem       loss  Instances       Size\n"
     ]
    },
    {
     "name": "stderr",
     "output_type": "stream",
     "text": [
      "     88/100      1.04G     0.1278         20         64: 100%|██████████| 26/26 [00:00<00:00, 73.31it/s]\n",
      "               classes   top1_acc   top5_acc: 100%|██████████| 4/4 [00:00<00:00, 138.08it/s]"
     ]
    },
    {
     "name": "stdout",
     "output_type": "stream",
     "text": [
      "                   all      0.994          1\n"
     ]
    },
    {
     "name": "stderr",
     "output_type": "stream",
     "text": [
      "\n"
     ]
    },
    {
     "name": "stdout",
     "output_type": "stream",
     "text": [
      "\n",
      "      Epoch    GPU_mem       loss  Instances       Size\n"
     ]
    },
    {
     "name": "stderr",
     "output_type": "stream",
     "text": [
      "     89/100      1.04G     0.1279         20         64: 100%|██████████| 26/26 [00:00<00:00, 66.89it/s]\n",
      "               classes   top1_acc   top5_acc: 100%|██████████| 4/4 [00:00<00:00, 174.60it/s]"
     ]
    },
    {
     "name": "stdout",
     "output_type": "stream",
     "text": [
      "                   all      0.992          1\n"
     ]
    },
    {
     "name": "stderr",
     "output_type": "stream",
     "text": [
      "\n"
     ]
    },
    {
     "name": "stdout",
     "output_type": "stream",
     "text": [
      "\n",
      "      Epoch    GPU_mem       loss  Instances       Size\n"
     ]
    },
    {
     "name": "stderr",
     "output_type": "stream",
     "text": [
      "     90/100      1.04G     0.1225         20         64: 100%|██████████| 26/26 [00:00<00:00, 77.51it/s]\n",
      "               classes   top1_acc   top5_acc: 100%|██████████| 4/4 [00:00<00:00, 174.79it/s]"
     ]
    },
    {
     "name": "stdout",
     "output_type": "stream",
     "text": [
      "                   all      0.994          1\n"
     ]
    },
    {
     "name": "stderr",
     "output_type": "stream",
     "text": [
      "\n"
     ]
    },
    {
     "name": "stdout",
     "output_type": "stream",
     "text": [
      "\n",
      "      Epoch    GPU_mem       loss  Instances       Size\n"
     ]
    },
    {
     "name": "stderr",
     "output_type": "stream",
     "text": [
      "     91/100      1.04G     0.1157         20         64: 100%|██████████| 26/26 [00:00<00:00, 46.31it/s]\n",
      "               classes   top1_acc   top5_acc: 100%|██████████| 4/4 [00:00<00:00, 174.25it/s]"
     ]
    },
    {
     "name": "stdout",
     "output_type": "stream",
     "text": [
      "                   all      0.992          1\n"
     ]
    },
    {
     "name": "stderr",
     "output_type": "stream",
     "text": [
      "\n"
     ]
    },
    {
     "name": "stdout",
     "output_type": "stream",
     "text": [
      "\n",
      "      Epoch    GPU_mem       loss  Instances       Size\n"
     ]
    },
    {
     "name": "stderr",
     "output_type": "stream",
     "text": [
      "     92/100      1.04G      0.126         20         64: 100%|██████████| 26/26 [00:00<00:00, 78.44it/s]\n",
      "               classes   top1_acc   top5_acc: 100%|██████████| 4/4 [00:00<00:00, 142.11it/s]"
     ]
    },
    {
     "name": "stdout",
     "output_type": "stream",
     "text": [
      "                   all      0.994          1\n"
     ]
    },
    {
     "name": "stderr",
     "output_type": "stream",
     "text": [
      "\n"
     ]
    },
    {
     "name": "stdout",
     "output_type": "stream",
     "text": [
      "\n",
      "      Epoch    GPU_mem       loss  Instances       Size\n"
     ]
    },
    {
     "name": "stderr",
     "output_type": "stream",
     "text": [
      "     93/100      1.04G      0.123         20         64: 100%|██████████| 26/26 [00:00<00:00, 71.17it/s]\n",
      "               classes   top1_acc   top5_acc: 100%|██████████| 4/4 [00:00<00:00, 161.74it/s]"
     ]
    },
    {
     "name": "stdout",
     "output_type": "stream",
     "text": [
      "                   all      0.992          1\n"
     ]
    },
    {
     "name": "stderr",
     "output_type": "stream",
     "text": [
      "\n"
     ]
    },
    {
     "name": "stdout",
     "output_type": "stream",
     "text": [
      "\n",
      "      Epoch    GPU_mem       loss  Instances       Size\n"
     ]
    },
    {
     "name": "stderr",
     "output_type": "stream",
     "text": [
      "     94/100      1.04G     0.1199         20         64: 100%|██████████| 26/26 [00:00<00:00, 65.61it/s]\n",
      "               classes   top1_acc   top5_acc: 100%|██████████| 4/4 [00:00<00:00, 136.69it/s]"
     ]
    },
    {
     "name": "stdout",
     "output_type": "stream",
     "text": [
      "                   all      0.992          1\n"
     ]
    },
    {
     "name": "stderr",
     "output_type": "stream",
     "text": [
      "\n"
     ]
    },
    {
     "name": "stdout",
     "output_type": "stream",
     "text": [
      "\n",
      "      Epoch    GPU_mem       loss  Instances       Size\n"
     ]
    },
    {
     "name": "stderr",
     "output_type": "stream",
     "text": [
      "     95/100      1.04G     0.1214         20         64: 100%|██████████| 26/26 [00:00<00:00, 76.66it/s]\n",
      "               classes   top1_acc   top5_acc: 100%|██████████| 4/4 [00:00<00:00, 176.04it/s]"
     ]
    },
    {
     "name": "stdout",
     "output_type": "stream",
     "text": [
      "                   all      0.993          1\n"
     ]
    },
    {
     "name": "stderr",
     "output_type": "stream",
     "text": [
      "\n"
     ]
    },
    {
     "name": "stdout",
     "output_type": "stream",
     "text": [
      "\n",
      "      Epoch    GPU_mem       loss  Instances       Size\n"
     ]
    },
    {
     "name": "stderr",
     "output_type": "stream",
     "text": [
      "     96/100      1.04G     0.1209         20         64: 100%|██████████| 26/26 [00:00<00:00, 81.92it/s]\n",
      "               classes   top1_acc   top5_acc: 100%|██████████| 4/4 [00:00<00:00, 173.85it/s]\n"
     ]
    },
    {
     "name": "stdout",
     "output_type": "stream",
     "text": [
      "                   all      0.994          1\n",
      "\n",
      "      Epoch    GPU_mem       loss  Instances       Size\n"
     ]
    },
    {
     "name": "stderr",
     "output_type": "stream",
     "text": [
      "     97/100      1.04G     0.1239         20         64: 100%|██████████| 26/26 [00:00<00:00, 81.41it/s]\n",
      "               classes   top1_acc   top5_acc: 100%|██████████| 4/4 [00:00<00:00, 172.61it/s]"
     ]
    },
    {
     "name": "stdout",
     "output_type": "stream",
     "text": [
      "                   all      0.996          1\n"
     ]
    },
    {
     "name": "stderr",
     "output_type": "stream",
     "text": [
      "\n"
     ]
    },
    {
     "name": "stdout",
     "output_type": "stream",
     "text": [
      "\n",
      "      Epoch    GPU_mem       loss  Instances       Size\n"
     ]
    },
    {
     "name": "stderr",
     "output_type": "stream",
     "text": [
      "     98/100      1.04G     0.1179         20         64: 100%|██████████| 26/26 [00:00<00:00, 72.78it/s]\n",
      "               classes   top1_acc   top5_acc: 100%|██████████| 4/4 [00:00<00:00, 149.33it/s]"
     ]
    },
    {
     "name": "stdout",
     "output_type": "stream",
     "text": [
      "                   all      0.994          1\n"
     ]
    },
    {
     "name": "stderr",
     "output_type": "stream",
     "text": [
      "\n"
     ]
    },
    {
     "name": "stdout",
     "output_type": "stream",
     "text": [
      "\n",
      "      Epoch    GPU_mem       loss  Instances       Size\n"
     ]
    },
    {
     "name": "stderr",
     "output_type": "stream",
     "text": [
      "     99/100      1.04G     0.1261         20         64: 100%|██████████| 26/26 [00:00<00:00, 76.24it/s]\n",
      "               classes   top1_acc   top5_acc: 100%|██████████| 4/4 [00:00<00:00, 133.87it/s]"
     ]
    },
    {
     "name": "stdout",
     "output_type": "stream",
     "text": [
      "                   all      0.994          1\n"
     ]
    },
    {
     "name": "stderr",
     "output_type": "stream",
     "text": [
      "\n"
     ]
    },
    {
     "name": "stdout",
     "output_type": "stream",
     "text": [
      "\n",
      "      Epoch    GPU_mem       loss  Instances       Size\n"
     ]
    },
    {
     "name": "stderr",
     "output_type": "stream",
     "text": [
      "    100/100      1.04G     0.1341         20         64: 100%|██████████| 26/26 [00:00<00:00, 73.26it/s]\n",
      "               classes   top1_acc   top5_acc: 100%|██████████| 4/4 [00:00<00:00, 174.44it/s]"
     ]
    },
    {
     "name": "stdout",
     "output_type": "stream",
     "text": [
      "                   all      0.994          1\n"
     ]
    },
    {
     "name": "stderr",
     "output_type": "stream",
     "text": [
      "\n"
     ]
    },
    {
     "name": "stdout",
     "output_type": "stream",
     "text": [
      "\n",
      "100 epochs completed in 0.013 hours.\n",
      "Optimizer stripped from runs/classify/yolov8-wafer-cls5/weights/last.pt, 10.3MB\n",
      "Optimizer stripped from runs/classify/yolov8-wafer-cls5/weights/best.pt, 10.3MB\n",
      "\n",
      "Validating runs/classify/yolov8-wafer-cls5/weights/best.pt...\n",
      "Ultralytics 8.3.99 🚀 Python-3.12.0 torch-2.5.1 CUDA:0 (NVIDIA GeForce RTX 4090, 24118MiB)\n",
      "YOLOv8s-cls summary (fused): 30 layers, 5,086,729 parameters, 0 gradients, 12.5 GFLOPs\n",
      "\u001b[34m\u001b[1mtrain:\u001b[0m /home/ntu-weal222c/ianpeng/pmba_yolo/wafer_dataset/train... found 6420 images in 9 classes ✅ \n",
      "\u001b[34m\u001b[1mval:\u001b[0m /home/ntu-weal222c/ianpeng/pmba_yolo/wafer_dataset/val... found 1595 images in 9 classes ✅ \n",
      "\u001b[34m\u001b[1mtest:\u001b[0m None...\n"
     ]
    },
    {
     "name": "stderr",
     "output_type": "stream",
     "text": [
      "               classes   top1_acc   top5_acc: 100%|██████████| 4/4 [00:00<00:00, 131.27it/s]\n"
     ]
    },
    {
     "name": "stdout",
     "output_type": "stream",
     "text": [
      "                   all      0.996          1\n",
      "Speed: 0.0ms preprocess, 0.0ms inference, 0.0ms loss, 0.0ms postprocess per image\n",
      "Results saved to \u001b[1mruns/classify/yolov8-wafer-cls5\u001b[0m\n"
     ]
    },
    {
     "data": {
      "text/plain": [
       "ultralytics.utils.metrics.ClassifyMetrics object with attributes:\n",
       "\n",
       "confusion_matrix: <ultralytics.utils.metrics.ConfusionMatrix object at 0x702b77a50530>\n",
       "curves: []\n",
       "curves_results: []\n",
       "fitness: 0.997805655002594\n",
       "keys: ['metrics/accuracy_top1', 'metrics/accuracy_top5']\n",
       "results_dict: {'metrics/accuracy_top1': 0.995611310005188, 'metrics/accuracy_top5': 1.0, 'fitness': 0.997805655002594}\n",
       "save_dir: PosixPath('runs/classify/yolov8-wafer-cls5')\n",
       "speed: {'preprocess': 0.007845708358810986, 'inference': 0.006270788166216548, 'loss': 9.016019984098813e-06, 'postprocess': 1.1877136357525674e-05}\n",
       "task: 'classify'\n",
       "top1: 0.995611310005188\n",
       "top5: 1.0"
      ]
     },
     "execution_count": 191,
     "metadata": {},
     "output_type": "execute_result"
    }
   ],
   "source": [
    "model.train(\n",
    "    data='wafer_dataset',  # 資料夾包含 train/ val/\n",
    "    imgsz=52,\n",
    "    epochs=100,\n",
    "    batch=256,\n",
    "    name='yolov8-wafer-cls',\n",
    "    device='cuda'\n",
    ")"
   ]
  },
  {
   "cell_type": "code",
   "execution_count": 195,
   "metadata": {},
   "outputs": [
    {
     "data": {
      "image/png": "[encoded data removed]",
      "text/plain": [
       "<Figure size 1500x300 with 10 Axes>"
      ]
     },
     "metadata": {},
     "output_type": "display_data"
    }
   ],
   "source": [
    "import os\n",
    "import random\n",
    "import cv2\n",
    "import matplotlib.pyplot as plt\n",
    "from ultralytics import YOLO\n",
    "\n",
    "# 設定 val 資料夾路徑\n",
    "val_root = 'wafer_dataset/val'\n",
    "\n",
    "# 載入模型\n",
    "model = YOLO('runs/classify/yolov8-wafer-cls5/weights/best.pt')\n",
    "\n",
    "# 取得所有類別資料夾（0 ~ 37）\n",
    "class_dirs = [d for d in os.listdir(val_root) if os.path.isdir(os.path.join(val_root, d))]\n",
    "\n",
    "# 隨機選幾張圖片\n",
    "n_samples = 10\n",
    "samples = []\n",
    "\n",
    "while len(samples) < n_samples:\n",
    "    cls = random.choice(class_dirs)\n",
    "    cls_path = os.path.join(val_root, cls)\n",
    "    img_files = os.listdir(cls_path)\n",
    "    if img_files:\n",
    "        img_file = random.choice(img_files)\n",
    "        img_path = os.path.join(cls_path, img_file)\n",
    "        samples.append((img_path, int(cls)))  # (圖片路徑, 真實類別)\n",
    "\n",
    "# 可視化\n",
    "plt.figure(figsize=(15, 3))\n",
    "for i, (img_path, true_label) in enumerate(samples):\n",
    "    # 預測（直接用圖片路徑）\n",
    "    results = model.predict(img_path, device='cuda', verbose=False)\n",
    "    pred_label = int(results[0].probs.top1)\n",
    "    conf = float(results[0].probs.top1conf)\n",
    "\n",
    "    # 顯示圖像（讀成灰階只為了顯示）\n",
    "    img_gray = cv2.imread(img_path, cv2.IMREAD_GRAYSCALE)\n",
    "    plt.subplot(1, n_samples, i + 1)\n",
    "    plt.imshow(img_gray, cmap='gray')\n",
    "    plt.title(f\"T:{true_label} P:{pred_label}\\nConf:{conf:.2f}\")\n",
    "    plt.axis('off')\n",
    "\n",
    "plt.tight_layout()\n",
    "plt.show()\n"
   ]
  },
  {
   "cell_type": "code",
   "execution_count": null,
   "metadata": {},
   "outputs": [],
   "source": []
  }
 ],
 "metadata": {
  "kernelspec": {
   "display_name": "pytorch",
   "language": "python",
   "name": "python3"
  },
  "language_info": {
   "codemirror_mode": {
    "name": "ipython",
    "version": 3
   },
   "file_extension": ".py",
   "mimetype": "text/x-python",
   "name": "python",
   "nbconvert_exporter": "python",
   "pygments_lexer": "ipython3",
   "version": "3.12.0"
  }
 },
 "nbformat": 4,
 "nbformat_minor": 2
}
